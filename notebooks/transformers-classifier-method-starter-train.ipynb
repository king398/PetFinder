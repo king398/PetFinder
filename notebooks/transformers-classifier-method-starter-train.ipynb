{
 "cells": [
  {
   "cell_type": "markdown",
   "metadata": {},
   "source": [
    "![SETI](https://www.petfinder.my/images/cuteness_meter.jpg)  \n",
    "\n",
    "# Problem Statement\n",
    "* Millions of stray animals suffer on the streets or are euthanized in shelters every day around the world. You might expect pets with attractive photos to generate more interest and be adopted faster.\n",
    "* With the help of data science, we will accurately determine a pet photo’s appeal to give these rescue animals a higher chance of loving homes.\n",
    "* Currently, PetFinder.my uses a basic Cuteness Meter to rank pet photos. It analyzes picture composition and other factors compared to the performance of thousands of pet profiles.\n",
    "\n",
    "## Why this competition?\n",
    "As evident from the problem statement, this competition presents an interesting challenge for a good cause.  \n",
    "Also (if successful) the solution can be adapted into tools that will can shelters and rescuers around the world to improve the appeal of their pet profiles, automatically enhancing photo quality and consequently helping animals find a suitable hjome much faster.\n",
    "\n",
    "## Expected Outcome\n",
    "Given a photo a pet animal and some basic information about the photo as dense features, we should be able to estimate the 'pawpularity' score of the pet.\n",
    "\n",
    "## Data Description\n",
    "Image data is stored in a jpg image format in training folder and the dense features and target scores are mentioned in the `train.csv` file where the Id of each row corresponds to an unique image in the training folder.\n",
    "There are also some basic info on the photograph as dense features on the `train.csv` file.\n",
    "\n",
    "## Grading Metric\n",
    "Submissions are evaluated on **RMSE** between the predicted value and the observed target.\n",
    "\n",
    "## Problem Category\n",
    "From the data and objective its is evident that this is a **Regression Problem** in the Computer Vision domain.\n",
    "\n",
    "**If you found this notebook useful and use parts of it in your work, please don't forget to show your appreciation by upvoting this kernel. That keeps me motivated and inspires me to write and share these public kernels.** 😊"
   ]
  },
  {
   "cell_type": "markdown",
   "metadata": {},
   "source": [
    "# About This Notebook:-\n",
    "* This notebook tried to demonstrate the use of Transfer learning using Pytorch and how to combine image features with dense features for various tasks.\n",
    "* We use a vanilla **vit_large_patch32_384** model for extracting image embeddings and concatenate them with the dense features on the last layer on a NN.\n",
    "* Refer [this link](https://www.kaggle.com/c/petfinder-pawpularity-score/discussion/275094) for description regarding using this particular methodology.\n",
    "* This notebook only covers the training part. Inference can be found in the notebook link below.\n",
    "\n",
    "Inference Notebook:- https://www.kaggle.com/manabendrarout/transformers-classifier-method-starter-infer  \n",
    "\n",
    "<p style='color: #fc0362; font-family: Segoe UI; font-size: 1.5em; font-weight: 300; font-size: 24px'>TLDR:- We treat this problem as a classification problem by scaling all targets between [0, 1] and use cross entropy loss as loss-function. It is known that transformer based models are performing better than classic CNN based models on this dataset.</p>"
   ]
  },
  {
   "cell_type": "markdown",
   "metadata": {
    "id": "BINjp9x4_S1v"
   },
   "source": [
    "# Get GPU Info"
   ]
  },
  {
   "cell_type": "code",
   "execution_count": 1,
   "metadata": {
    "execution": {
     "iopub.execute_input": "2021-10-04T14:22:48.898181Z",
     "iopub.status.busy": "2021-10-04T14:22:48.897496Z",
     "iopub.status.idle": "2021-10-04T14:22:50.00688Z",
     "shell.execute_reply": "2021-10-04T14:22:50.00578Z",
     "shell.execute_reply.started": "2021-10-04T14:22:48.898046Z"
    },
    "id": "7JFphgy7-Bnh",
    "outputId": "9726f4ca-f7a2-45c7-8faa-de794e82430d"
   },
   "outputs": [
    {
     "name": "stderr",
     "output_type": "stream",
     "text": [
      "'nvidia-smi' is not recognized as an internal or external command,\n",
      "operable program or batch file.\n"
     ]
    }
   ],
   "source": [
    "!nvidia-smi"
   ]
  },
  {
   "cell_type": "markdown",
   "metadata": {
    "_kg_hide-input": false,
    "_kg_hide-output": false,
    "id": "6I-oEtuP_kQ4"
   },
   "source": [
    "# Installations"
   ]
  },
  {
   "cell_type": "code",
   "execution_count": 2,
   "metadata": {
    "_kg_hide-input": false,
    "_kg_hide-output": true,
    "execution": {
     "iopub.execute_input": "2021-10-04T14:22:50.011562Z",
     "iopub.status.busy": "2021-10-04T14:22:50.011312Z",
     "iopub.status.idle": "2021-10-04T14:23:42.878741Z",
     "shell.execute_reply": "2021-10-04T14:23:42.877303Z",
     "shell.execute_reply.started": "2021-10-04T14:22:50.011531Z"
    },
    "id": "9iIVyfJS_Vmb"
   },
   "outputs": [
    {
     "name": "stderr",
     "output_type": "stream",
     "text": [
      "ERROR: Invalid requirement: '=='\n"
     ]
    }
   ],
   "source": [
    "!pip install -qq timm\n",
    "!pip install -qq albumentations == 1.0.3\n",
    "!pip install -qq grad-cam\n",
    "!pip install -qq ttach"
   ]
  },
  {
   "cell_type": "markdown",
   "metadata": {
    "id": "OOStUXXcAgDa"
   },
   "source": [
    "# Imports"
   ]
  },
  {
   "cell_type": "code",
   "execution_count": null,
   "metadata": {
    "execution": {
     "iopub.execute_input": "2021-10-04T14:23:42.881557Z",
     "iopub.status.busy": "2021-10-04T14:23:42.881193Z",
     "iopub.status.idle": "2021-10-04T14:23:51.200338Z",
     "shell.execute_reply": "2021-10-04T14:23:51.199206Z",
     "shell.execute_reply.started": "2021-10-04T14:23:42.881495Z"
    },
    "id": "fewdVIGwAfpU",
    "outputId": "68c049ba-a995-4305-9788-ee9e6e6fb14e",
    "pycharm": {
     "is_executing": true
    }
   },
   "outputs": [],
   "source": [
    "# Asthetics\n",
    "import warnings\n",
    "import sklearn.exceptions\n",
    "\n",
    "warnings.filterwarnings('ignore', category=DeprecationWarning)\n",
    "warnings.filterwarnings('ignore', category=FutureWarning)\n",
    "warnings.filterwarnings(\"ignore\", category=sklearn.exceptions.UndefinedMetricWarning)\n",
    "\n",
    "# General\n",
    "from tqdm.auto import tqdm\n",
    "from collections import defaultdict\n",
    "import pandas as pd\n",
    "import numpy as np\n",
    "import os\n",
    "import random\n",
    "import gc\n",
    "import cv2\n",
    "import glob\n",
    "\n",
    "gc.enable()\n",
    "pd.set_option('display.max_columns', None)\n",
    "\n",
    "# Visialisation\n",
    "import matplotlib.pyplot as plt\n",
    "% matplotlib inline\n",
    "\n",
    "# Image Aug\n",
    "import albumentations\n",
    "from albumentations.pytorch.transforms import ToTensorV2\n",
    "\n",
    "# Deep Learning\n",
    "from torch.utils.data import Dataset, DataLoader\n",
    "from torch.optim.lr_scheduler import CosineAnnealingWarmRestarts, OneCycleLR, CosineAnnealingLR\n",
    "import torch\n",
    "import torchvision\n",
    "import timm\n",
    "import torch.nn as nn\n",
    "import torch.nn.functional as F\n",
    "import torch.optim as optim\n",
    "#Metrics\n",
    "from sklearn.metrics import mean_squared_error\n",
    "\n",
    "# Random Seed Initialize\n",
    "RANDOM_SEED = 42\n",
    "\n",
    "\n",
    "def seed_everything(seed=RANDOM_SEED):\n",
    "\tos.environ['PYTHONHASHSEED'] = str(seed)\n",
    "\tnp.random.seed(seed)\n",
    "\trandom.seed(seed)\n",
    "\ttorch.manual_seed(seed)\n",
    "\ttorch.cuda.manual_seed(seed)\n",
    "\ttorch.backends.cudnn.deterministic = True\n",
    "\ttorch.backends.cudnn.benchmark = True\n",
    "\n",
    "\n",
    "seed_everything()\n",
    "\n",
    "# Device Optimization\n",
    "if torch.cuda.is_available():\n",
    "\tdevice = torch.device('cuda')\n",
    "else:\n",
    "\tdevice = torch.device('cpu')\n",
    "\n",
    "print(f'Using device: {device}')"
   ]
  },
  {
   "cell_type": "code",
   "execution_count": null,
   "metadata": {
    "execution": {
     "iopub.execute_input": "2021-10-04T14:23:51.203054Z",
     "iopub.status.busy": "2021-10-04T14:23:51.202073Z",
     "iopub.status.idle": "2021-10-04T14:23:51.21224Z",
     "shell.execute_reply": "2021-10-04T14:23:51.210933Z",
     "shell.execute_reply.started": "2021-10-04T14:23:51.203002Z"
    },
    "id": "cscftms-CyMn",
    "outputId": "150ac493-d079-4950-85b5-b69f1f3ea8bd",
    "pycharm": {
     "is_executing": true
    }
   },
   "outputs": [],
   "source": [
    "csv_dir = '../input/petfinder-pawpularity-score'\n",
    "train_dir = r'F:\\Pycharm_projects\\PetFinder\\data\\train'\n",
    "test_dir = r'F:\\Pycharm_projects\\PetFinder\\data\\test'\n",
    "\n",
    "train_file_path = r\"F:\\Pycharm_projects\\PetFinder\\data\\train_5folds.csv\"\n",
    "sample_sub_file_path = os.path.join(\"F:\\Pycharm_projects\\PetFinder\\data\\sample_submission.csv\")\n",
    "\n",
    "print(f'Train file: {train_file_path}')\n",
    "print(f'Train file: {sample_sub_file_path}')"
   ]
  },
  {
   "cell_type": "code",
   "execution_count": null,
   "metadata": {
    "execution": {
     "iopub.execute_input": "2021-10-04T14:23:51.217364Z",
     "iopub.status.busy": "2021-10-04T14:23:51.216258Z",
     "iopub.status.idle": "2021-10-04T14:23:51.296319Z",
     "shell.execute_reply": "2021-10-04T14:23:51.29533Z",
     "shell.execute_reply.started": "2021-10-04T14:23:51.217309Z"
    },
    "id": "B1aBWdnoDWWX",
    "pycharm": {
     "is_executing": true
    }
   },
   "outputs": [],
   "source": [
    "train_df = pd.read_csv(train_file_path)\n",
    "test_df = pd.read_csv(sample_sub_file_path)"
   ]
  },
  {
   "cell_type": "code",
   "execution_count": null,
   "metadata": {
    "execution": {
     "iopub.execute_input": "2021-10-04T14:23:51.298483Z",
     "iopub.status.busy": "2021-10-04T14:23:51.298145Z",
     "iopub.status.idle": "2021-10-04T14:23:51.304217Z",
     "shell.execute_reply": "2021-10-04T14:23:51.30293Z",
     "shell.execute_reply.started": "2021-10-04T14:23:51.298442Z"
    },
    "id": "vy3X2yUODZP1",
    "pycharm": {
     "is_executing": true
    }
   },
   "outputs": [],
   "source": [
    "def return_filpath(name, folder=train_dir):\n",
    "\tpath = os.path.join(folder, f'{name}.jpg')\n",
    "\treturn path"
   ]
  },
  {
   "cell_type": "code",
   "execution_count": null,
   "metadata": {
    "execution": {
     "iopub.execute_input": "2021-10-04T14:23:51.307285Z",
     "iopub.status.busy": "2021-10-04T14:23:51.306344Z",
     "iopub.status.idle": "2021-10-04T14:23:51.352126Z",
     "shell.execute_reply": "2021-10-04T14:23:51.35112Z",
     "shell.execute_reply.started": "2021-10-04T14:23:51.307239Z"
    },
    "id": "4cQlB9XUD31w",
    "pycharm": {
     "is_executing": true
    }
   },
   "outputs": [],
   "source": [
    "train_df['image_path'] = train_df['Id'].apply(lambda x: return_filpath(x))\n",
    "test_df['image_path'] = test_df['Id'].apply(lambda x: return_filpath(x, folder=test_dir))"
   ]
  },
  {
   "cell_type": "code",
   "execution_count": null,
   "metadata": {
    "execution": {
     "iopub.execute_input": "2021-10-04T14:23:51.355667Z",
     "iopub.status.busy": "2021-10-04T14:23:51.355396Z",
     "iopub.status.idle": "2021-10-04T14:23:51.386256Z",
     "shell.execute_reply": "2021-10-04T14:23:51.385062Z",
     "shell.execute_reply.started": "2021-10-04T14:23:51.355624Z"
    },
    "id": "7cZ3OJc8D80E",
    "outputId": "3b7f823a-6c3b-484b-b822-03d016b43e17",
    "pycharm": {
     "is_executing": true
    }
   },
   "outputs": [],
   "source": [
    "train_df.head()"
   ]
  },
  {
   "cell_type": "code",
   "execution_count": null,
   "metadata": {
    "execution": {
     "iopub.execute_input": "2021-10-04T14:23:51.388473Z",
     "iopub.status.busy": "2021-10-04T14:23:51.388131Z",
     "iopub.status.idle": "2021-10-04T14:23:51.40241Z",
     "shell.execute_reply": "2021-10-04T14:23:51.401045Z",
     "shell.execute_reply.started": "2021-10-04T14:23:51.388418Z"
    },
    "id": "UI-XjtOiD-T7",
    "outputId": "e896c973-20c6-4030-aca5-eaad2fa53be6",
    "pycharm": {
     "is_executing": true
    }
   },
   "outputs": [],
   "source": [
    "test_df.head()"
   ]
  },
  {
   "cell_type": "code",
   "execution_count": null,
   "metadata": {
    "execution": {
     "iopub.execute_input": "2021-10-04T14:23:51.405022Z",
     "iopub.status.busy": "2021-10-04T14:23:51.404344Z",
     "iopub.status.idle": "2021-10-04T14:23:51.416095Z",
     "shell.execute_reply": "2021-10-04T14:23:51.414758Z",
     "shell.execute_reply.started": "2021-10-04T14:23:51.404965Z"
    },
    "pycharm": {
     "is_executing": true
    }
   },
   "outputs": [],
   "source": [
    "target = ['Pawpularity']\n",
    "not_features = ['Id', 'kfold', 'image_path', 'Pawpularity']\n",
    "cols = list(train_df.columns)\n",
    "features = [feat for feat in cols if feat not in not_features]\n",
    "print(features)"
   ]
  },
  {
   "cell_type": "markdown",
   "metadata": {
    "id": "GJPLd0HKELDF"
   },
   "source": [
    "# CFG"
   ]
  },
  {
   "cell_type": "code",
   "execution_count": null,
   "metadata": {
    "execution": {
     "iopub.execute_input": "2021-10-04T14:23:51.418664Z",
     "iopub.status.busy": "2021-10-04T14:23:51.418328Z",
     "iopub.status.idle": "2021-10-04T14:23:51.426093Z",
     "shell.execute_reply": "2021-10-04T14:23:51.424705Z",
     "shell.execute_reply.started": "2021-10-04T14:23:51.418625Z"
    },
    "id": "qYYZYyotM7WA",
    "pycharm": {
     "is_executing": true
    }
   },
   "outputs": [],
   "source": [
    "TRAIN_FOLDS = [0]"
   ]
  },
  {
   "cell_type": "code",
   "execution_count": null,
   "metadata": {
    "execution": {
     "iopub.execute_input": "2021-10-04T14:23:51.429064Z",
     "iopub.status.busy": "2021-10-04T14:23:51.428329Z",
     "iopub.status.idle": "2021-10-04T14:23:51.438048Z",
     "shell.execute_reply": "2021-10-04T14:23:51.436766Z",
     "shell.execute_reply.started": "2021-10-04T14:23:51.429022Z"
    },
    "pycharm": {
     "is_executing": true
    }
   },
   "outputs": [],
   "source": [
    "params = {\n",
    "\t'model': 'swin_large_patch4_window12_384',\n",
    "\t'dense_features': features,\n",
    "\t'pretrained': True,\n",
    "\t'inp_channels': 3,\n",
    "\t'im_size': 384,\n",
    "\t'device': device,\n",
    "\t'lr': 1e-5,\n",
    "\t'weight_decay': 1e-6,\n",
    "\t'batch_size': 4,\n",
    "\t'num_workers': 0,\n",
    "\t'epochs': 10,\n",
    "\t'out_features': 1,\n",
    "\t'dropout': 0.2,\n",
    "\t'num_fold': 5,\n",
    "\t'mixup': False,\n",
    "\t'mixup_alpha': 1.0,\n",
    "\t'scheduler_name': 'CosineAnnealingWarmRestarts',\n",
    "\t'T_0': 5,\n",
    "\t'T_max': 5,\n",
    "\t'T_mult': 1,\n",
    "\t'min_lr': 1e-7,\n",
    "\t'max_lr': 1e-4\n",
    "}"
   ]
  },
  {
   "cell_type": "markdown",
   "metadata": {
    "id": "DsXs0lrZG6MY"
   },
   "source": [
    "# Augmentations\n",
    "\n",
    "There a well known concept called **image augmentations** in CNN. What augmentation generally does is, it artificially increases the dataset size by subtly modifying the existing images to create new ones (while training). One added advantage of this is:- The model becomes more generalized and focuses to finding features and representations rather than completely overfitting to the training data. It also sometimes helps the model train on more noisy data as compared to conventional methods.  \n",
    "\n",
    "Example:-  \n",
    "![](https://www.researchgate.net/publication/319413978/figure/fig2/AS:533727585333249@1504261980375/Data-augmentation-using-semantic-preserving-transformation-for-SBIR.png)  \n",
    "Source:- https://www.researchgate.net/publication/319413978/figure/fig2/AS:533727585333249@1504261980375/Data-augmentation-using-semantic-preserving-transformation-for-SBIR.png\n",
    "\n",
    "One of the most popular image augmentation libraries is **Albumentations**. It has an extensive list of image augmentations, the full list can be found in their [documentation](https://albumentations.ai/docs/).  \n",
    "\n",
    "*Tip:- Not all augmentations are applicable in all conditions. It really depends on the dataset and the problem. Example:- If your task is to identify if a person is standing or sleeping, applying a rotational augmentation can make the model worse.*  \n",
    "\n",
    "With that in mind, let's define our augmentations:-"
   ]
  },
  {
   "cell_type": "markdown",
   "metadata": {
    "id": "ocxEJDymG9-9"
   },
   "source": [
    "## 1. Train Augmentations"
   ]
  },
  {
   "cell_type": "code",
   "execution_count": null,
   "metadata": {
    "execution": {
     "iopub.execute_input": "2021-10-04T14:23:51.441711Z",
     "iopub.status.busy": "2021-10-04T14:23:51.440846Z",
     "iopub.status.idle": "2021-10-04T14:23:51.452357Z",
     "shell.execute_reply": "2021-10-04T14:23:51.451228Z",
     "shell.execute_reply.started": "2021-10-04T14:23:51.441667Z"
    },
    "id": "VAgcHrtSG53X",
    "pycharm": {
     "is_executing": true
    }
   },
   "outputs": [],
   "source": [
    "def get_train_transforms(DIM=params['im_size']):\n",
    "\treturn albumentations.Compose(\n",
    "\t\t[\n",
    "\t\t\talbumentations.RandomResizedCrop(DIM, DIM),\n",
    "\t\t\talbumentations.Normalize(\n",
    "\t\t\t\tmean=[0.485, 0.456, 0.406],\n",
    "\t\t\t\tstd=[0.229, 0.224, 0.225],\n",
    "\t\t\t),\n",
    "\t\t\talbumentations.HorizontalFlip(p=0.5),\n",
    "\t\t\talbumentations.VerticalFlip(p=0.5),\n",
    "\n",
    "\t\t\tToTensorV2(p=1.0),\n",
    "\t\t]\n",
    "\t)"
   ]
  },
  {
   "cell_type": "markdown",
   "metadata": {
    "id": "_7Jgmmh0HCI-"
   },
   "source": [
    "## 2. Mixup"
   ]
  },
  {
   "cell_type": "code",
   "execution_count": null,
   "metadata": {
    "execution": {
     "iopub.execute_input": "2021-10-04T14:23:51.457845Z",
     "iopub.status.busy": "2021-10-04T14:23:51.457613Z",
     "iopub.status.idle": "2021-10-04T14:23:51.468935Z",
     "shell.execute_reply": "2021-10-04T14:23:51.467324Z",
     "shell.execute_reply.started": "2021-10-04T14:23:51.457818Z"
    },
    "id": "cSI6LYDxHCoy",
    "pycharm": {
     "is_executing": true
    }
   },
   "outputs": [],
   "source": [
    "def mixup_data(x, z, y, params):\n",
    "\tif params['mixup_alpha'] > 0:\n",
    "\t\tlam = np.random.beta(\n",
    "\t\t\tparams['mixup_alpha'], params['mixup_alpha']\n",
    "\t\t)\n",
    "\telse:\n",
    "\t\tlam = 1\n",
    "\n",
    "\tbatch_size = x.size()[0]\n",
    "\tif params['device'].type == 'cuda':\n",
    "\t\tindex = torch.randperm(batch_size).cuda()\n",
    "\telse:\n",
    "\t\tindex = torch.randperm(batch_size)\n",
    "\n",
    "\tmixed_x = lam * x + (1 - lam) * x[index, :]\n",
    "\tmixed_z = lam * z + (1 - lam) * z[index, :]\n",
    "\ty_a, y_b = y, y[index]\n",
    "\treturn mixed_x, mixed_z, y_a, y_b, lam\n",
    "\n",
    "\n",
    "def mixup_criterion(criterion, pred, y_a, y_b, lam):\n",
    "\treturn lam * criterion(pred, y_a) + (1 - lam) * criterion(pred, y_b)"
   ]
  },
  {
   "cell_type": "markdown",
   "metadata": {
    "id": "GkfBqo6cHHCZ"
   },
   "source": [
    "## 3. Valid Augmentations"
   ]
  },
  {
   "cell_type": "code",
   "execution_count": null,
   "metadata": {
    "execution": {
     "iopub.execute_input": "2021-10-04T14:23:51.471857Z",
     "iopub.status.busy": "2021-10-04T14:23:51.470609Z",
     "iopub.status.idle": "2021-10-04T14:23:51.480231Z",
     "shell.execute_reply": "2021-10-04T14:23:51.479052Z",
     "shell.execute_reply.started": "2021-10-04T14:23:51.471808Z"
    },
    "id": "vyYpi2CJHHZr",
    "pycharm": {
     "is_executing": true
    }
   },
   "outputs": [],
   "source": [
    "def get_valid_transforms(DIM=params['im_size']):\n",
    "\treturn albumentations.Compose(\n",
    "\t\t[\n",
    "\t\t\talbumentations.Resize(DIM, DIM),\n",
    "\t\t\talbumentations.Normalize(\n",
    "\t\t\t\tmean=[0.485, 0.456, 0.406],\n",
    "\t\t\t\tstd=[0.229, 0.224, 0.225],\n",
    "\t\t\t),\n",
    "\t\t\tToTensorV2(p=1.0)\n",
    "\t\t]\n",
    "\t)"
   ]
  },
  {
   "cell_type": "markdown",
   "metadata": {
    "id": "1XzssvuYHNI0"
   },
   "source": [
    "# Dataset"
   ]
  },
  {
   "cell_type": "code",
   "execution_count": null,
   "metadata": {
    "execution": {
     "iopub.execute_input": "2021-10-04T14:23:51.482966Z",
     "iopub.status.busy": "2021-10-04T14:23:51.482219Z",
     "iopub.status.idle": "2021-10-04T14:23:51.494099Z",
     "shell.execute_reply": "2021-10-04T14:23:51.492908Z",
     "shell.execute_reply.started": "2021-10-04T14:23:51.482847Z"
    },
    "id": "7b4_Zu73HK62",
    "pycharm": {
     "is_executing": true
    }
   },
   "outputs": [],
   "source": [
    "class CuteDataset(Dataset):\n",
    "\tdef __init__(self, images_filepaths, dense_features, targets, transform=None):\n",
    "\t\tself.images_filepaths = images_filepaths\n",
    "\t\tself.dense_features = dense_features\n",
    "\t\tself.targets = targets\n",
    "\t\tself.transform = transform\n",
    "\n",
    "\tdef __len__(self):\n",
    "\t\treturn len(self.images_filepaths)\n",
    "\n",
    "\tdef __getitem__(self, idx):\n",
    "\t\timage_filepath = self.images_filepaths[idx]\n",
    "\t\timage = cv2.imread(image_filepath)\n",
    "\t\timage = cv2.cvtColor(image, cv2.COLOR_BGR2RGB)\n",
    "\n",
    "\t\tif self.transform is not None:\n",
    "\t\t\timage = self.transform(image=image)['image']\n",
    "\n",
    "\t\tdense = self.dense_features[idx, :]\n",
    "\t\tlabel = torch.tensor(self.targets[idx]).float()\n",
    "\t\treturn image, dense, label"
   ]
  },
  {
   "cell_type": "markdown",
   "metadata": {
    "id": "z4LHNKAcTsi7"
   },
   "source": [
    "## 1. Visualize Some Examples"
   ]
  },
  {
   "cell_type": "code",
   "execution_count": null,
   "metadata": {
    "execution": {
     "iopub.execute_input": "2021-10-04T14:23:51.496758Z",
     "iopub.status.busy": "2021-10-04T14:23:51.495514Z",
     "iopub.status.idle": "2021-10-04T14:23:51.511438Z",
     "shell.execute_reply": "2021-10-04T14:23:51.510321Z",
     "shell.execute_reply.started": "2021-10-04T14:23:51.496714Z"
    },
    "id": "-WJ54a68TxVS",
    "pycharm": {
     "is_executing": true
    }
   },
   "outputs": [],
   "source": [
    "X_train = train_df['image_path']\n",
    "X_train_dense = train_df[params['dense_features']]\n",
    "y_train = train_df['Pawpularity']\n",
    "train_dataset = CuteDataset(\n",
    "\timages_filepaths=X_train.values,\n",
    "\tdense_features=X_train_dense.values,\n",
    "\ttargets=y_train.values,\n",
    "\ttransform=get_train_transforms()\n",
    ")"
   ]
  },
  {
   "cell_type": "code",
   "execution_count": null,
   "metadata": {
    "execution": {
     "iopub.execute_input": "2021-10-04T14:23:51.515106Z",
     "iopub.status.busy": "2021-10-04T14:23:51.514144Z",
     "iopub.status.idle": "2021-10-04T14:23:51.524224Z",
     "shell.execute_reply": "2021-10-04T14:23:51.522969Z",
     "shell.execute_reply.started": "2021-10-04T14:23:51.515062Z"
    },
    "id": "z8r6mz2TVQMA",
    "pycharm": {
     "is_executing": true
    }
   },
   "outputs": [],
   "source": [
    "def show_image(train_dataset=train_dataset, inline=4):\n",
    "\tplt.figure(figsize=(20, 10))\n",
    "\tfor i in range(inline):\n",
    "\t\trand = random.randint(0, len(train_dataset))\n",
    "\t\timage, dense, label = train_dataset[rand]\n",
    "\t\tplt.subplot(1, inline, i % inline + 1)\n",
    "\t\tplt.axis('off')\n",
    "\t\tplt.imshow(image.permute(2, 1, 0))\n",
    "\t\tplt.title(f'Pawpularity: {label}')"
   ]
  },
  {
   "cell_type": "code",
   "execution_count": null,
   "metadata": {
    "execution": {
     "iopub.execute_input": "2021-10-04T14:23:51.526754Z",
     "iopub.status.busy": "2021-10-04T14:23:51.526288Z",
     "iopub.status.idle": "2021-10-04T14:23:53.929184Z",
     "shell.execute_reply": "2021-10-04T14:23:53.927439Z",
     "shell.execute_reply.started": "2021-10-04T14:23:51.526675Z"
    },
    "id": "IVDGvn6uX9du",
    "outputId": "bdf5a8a9-52af-4f7d-ee85-81f537d7ade5",
    "pycharm": {
     "is_executing": true
    }
   },
   "outputs": [],
   "source": [
    "for i in range(3):\n",
    "\tshow_image(inline=4)"
   ]
  },
  {
   "cell_type": "code",
   "execution_count": null,
   "metadata": {
    "execution": {
     "iopub.execute_input": "2021-10-04T14:23:53.931873Z",
     "iopub.status.busy": "2021-10-04T14:23:53.931556Z",
     "iopub.status.idle": "2021-10-04T14:23:53.937472Z",
     "shell.execute_reply": "2021-10-04T14:23:53.936248Z",
     "shell.execute_reply.started": "2021-10-04T14:23:53.931833Z"
    },
    "id": "ffF9yW2JUqpq",
    "pycharm": {
     "is_executing": true
    }
   },
   "outputs": [],
   "source": [
    "del X_train, X_train_dense, y_train, train_dataset"
   ]
  },
  {
   "cell_type": "markdown",
   "metadata": {
    "id": "GMHo2KKAHw-3"
   },
   "source": [
    "# Metrics"
   ]
  },
  {
   "cell_type": "code",
   "execution_count": null,
   "metadata": {
    "execution": {
     "iopub.execute_input": "2021-10-04T14:23:53.93983Z",
     "iopub.status.busy": "2021-10-04T14:23:53.939186Z",
     "iopub.status.idle": "2021-10-04T14:23:53.95236Z",
     "shell.execute_reply": "2021-10-04T14:23:53.951191Z",
     "shell.execute_reply.started": "2021-10-04T14:23:53.939779Z"
    },
    "id": "nHiDAFprHtD-",
    "pycharm": {
     "is_executing": true
    }
   },
   "outputs": [],
   "source": [
    "def usr_rmse_score(output, target):\n",
    "\ty_pred = torch.sigmoid(output).cpu()\n",
    "\ty_pred = y_pred.detach().numpy() * 100\n",
    "\ttarget = target.cpu() * 100\n",
    "\n",
    "\treturn mean_squared_error(target, y_pred, squared=False)"
   ]
  },
  {
   "cell_type": "code",
   "execution_count": null,
   "metadata": {
    "execution": {
     "iopub.execute_input": "2021-10-04T14:23:53.955619Z",
     "iopub.status.busy": "2021-10-04T14:23:53.954846Z",
     "iopub.status.idle": "2021-10-04T14:23:53.967386Z",
     "shell.execute_reply": "2021-10-04T14:23:53.965865Z",
     "shell.execute_reply.started": "2021-10-04T14:23:53.955574Z"
    },
    "id": "KqMs6f0iIv2e",
    "pycharm": {
     "is_executing": true
    }
   },
   "outputs": [],
   "source": [
    "class MetricMonitor:\n",
    "\tdef __init__(self, float_precision=3):\n",
    "\t\tself.float_precision = float_precision\n",
    "\t\tself.reset()\n",
    "\n",
    "\tdef reset(self):\n",
    "\t\tself.metrics = defaultdict(lambda: {\"val\": 0, \"count\": 0, \"avg\": 0})\n",
    "\n",
    "\tdef update(self, metric_name, val):\n",
    "\t\tmetric = self.metrics[metric_name]\n",
    "\n",
    "\t\tmetric[\"val\"] += val\n",
    "\t\tmetric[\"count\"] += 1\n",
    "\t\tmetric[\"avg\"] = metric[\"val\"] / metric[\"count\"]\n",
    "\n",
    "\tdef __str__(self):\n",
    "\t\treturn \" | \".join(\n",
    "\t\t\t[\n",
    "\t\t\t\t\"{metric_name}: {avg:.{float_precision}f}\".format(\n",
    "\t\t\t\t\tmetric_name=metric_name, avg=metric[\"avg\"],\n",
    "\t\t\t\t\tfloat_precision=self.float_precision\n",
    "\t\t\t\t)\n",
    "\t\t\t\tfor (metric_name, metric) in self.metrics.items()\n",
    "\t\t\t]\n",
    "\t\t)"
   ]
  },
  {
   "cell_type": "markdown",
   "metadata": {
    "id": "0RLKnQ_XI5fy"
   },
   "source": [
    "# Scheduler\n",
    "\n",
    "Scheduler is essentially an function that changes our learning rate over epochs/steps. But why do we need to do that?\n",
    "1. The first reason is that our network may become stuck in either saddle points or local minima, and the low learning rate may not be sufficient to break out of the area and descend into areas of the loss landscape with lower loss.\n",
    "2. Secondly, our model and optimizer may be very sensitive to our initial learning rate choice. If we make a poor initial choice in learning rate, our model may be stuck from the very start.\n",
    "\n",
    "Instead, we can use Schedulers and specifically Cyclical Learning Rates(CLR) to oscillate our learning rate between upper and lower bounds, enabling us to:\n",
    "* Have more freedom in our initial learning rate choices.\n",
    "* Break out of saddle points and local minima.\n",
    "\n",
    "In practice, using CLRs leads to far fewer learning rate tuning experiments along with near identical accuracy to exhaustive hyperparameter tuning."
   ]
  },
  {
   "cell_type": "code",
   "execution_count": null,
   "metadata": {
    "execution": {
     "iopub.execute_input": "2021-10-04T14:23:53.971777Z",
     "iopub.status.busy": "2021-10-04T14:23:53.971366Z",
     "iopub.status.idle": "2021-10-04T14:23:53.984345Z",
     "shell.execute_reply": "2021-10-04T14:23:53.983309Z",
     "shell.execute_reply.started": "2021-10-04T14:23:53.971665Z"
    },
    "id": "ikY8Rw2vI3fx",
    "pycharm": {
     "is_executing": true
    }
   },
   "outputs": [],
   "source": [
    "def get_scheduler(optimizer, scheduler_params=params):\n",
    "\tif scheduler_params['scheduler_name'] == 'CosineAnnealingWarmRestarts':\n",
    "\t\tscheduler = CosineAnnealingWarmRestarts(\n",
    "\t\t\toptimizer,\n",
    "\t\t\tT_0=scheduler_params['T_0'],\n",
    "\t\t\teta_min=scheduler_params['min_lr'],\n",
    "\t\t\tlast_epoch=-1\n",
    "\t\t)\n",
    "\telif scheduler_params['scheduler_name'] == 'OneCycleLR':\n",
    "\t\tscheduler = OneCycleLR(\n",
    "\t\t\toptimizer,\n",
    "\t\t\tmax_lr=scheduler_params['max_lr'],\n",
    "\t\t\tsteps_per_epoch=int(((scheduler_params['num_fold'] - 1) * train_df.shape[0]) / (\n",
    "\t\t\t\t\tscheduler_params['num_fold'] * scheduler_params['batch_size'])) + 1,\n",
    "\t\t\tepochs=scheduler_params['epochs'],\n",
    "\t\t)\n",
    "\n",
    "\telif scheduler_params['scheduler_name'] == 'CosineAnnealingLR':\n",
    "\t\tscheduler = CosineAnnealingLR(\n",
    "\t\t\toptimizer,\n",
    "\t\t\tT_max=scheduler_params['T_max'],\n",
    "\t\t\teta_min=scheduler_params['min_lr'],\n",
    "\t\t\tlast_epoch=-1\n",
    "\t\t)\n",
    "\treturn scheduler"
   ]
  },
  {
   "cell_type": "markdown",
   "metadata": {
    "id": "ZG2lASSbJ7dj"
   },
   "source": [
    "# CNN Model\n",
    "\n",
    "We will inherit from the nn.Module class to define our model. This is a easy as well as effective way of defining the model as it allows very granular control over the complete NN. We are not using the full capability of it here since it is a starter model, but practicing similar definitions will help if/when you decide to play around a little more with the NN layers and functions.  \n",
    "\n",
    "Also we are using timm for instancing a pre-trained model.  \n",
    "The complete list of Pytorch pre-trained image models through timm can be found [here](https://rwightman.github.io/pytorch-image-models/)  "
   ]
  },
  {
   "cell_type": "code",
   "execution_count": null,
   "metadata": {
    "execution": {
     "iopub.execute_input": "2021-10-04T14:23:53.986719Z",
     "iopub.status.busy": "2021-10-04T14:23:53.986343Z",
     "iopub.status.idle": "2021-10-04T14:23:54.001561Z",
     "shell.execute_reply": "2021-10-04T14:23:54.000489Z",
     "shell.execute_reply.started": "2021-10-04T14:23:53.986676Z"
    },
    "id": "WvxyQ04RJ0Ll",
    "pycharm": {
     "is_executing": true
    }
   },
   "outputs": [],
   "source": [
    "class GeM(nn.Module):\n",
    "\tdef __init__(self, p=4, eps=1e-6):\n",
    "\t\tsuper(GeM, self).__init__()\n",
    "\t\tself.p = nn.Parameter(torch.ones(1) * p)\n",
    "\t\tself.eps = eps\n",
    "\n",
    "\tdef forward(self, x):\n",
    "\t\treturn self.gem(x, p=self.p, eps=self.eps)\n",
    "\n",
    "\tdef gem(self, x, p=3, eps=1e-6):\n",
    "\t\treturn F.avg_pool2d(x.clamp(min=eps).pow(p), (x.size(-2), x.size(-1))).pow(1. / p)\n",
    "\n",
    "\tdef __repr__(self):\n",
    "\t\treturn self.__class__.__name__ + '(' + 'p=' + '{:.4f}'.format(self.p.data.tolist()[0]) + ', ' + 'eps=' + str(\n",
    "\t\t\tself.eps) + ')'\n",
    "\n",
    "\n",
    "class BasicConv(nn.Module):\n",
    "\tdef __init__(self, in_planes, out_planes, kernel_size, stride=1, padding=0, dilation=1, groups=1, relu=True,\n",
    "\t             bn=True, bias=False,\n",
    "\t             act_layer=nn.ReLU):\n",
    "\t\tsuper(BasicConv, self).__init__()\n",
    "\t\tself.out_channels = out_planes\n",
    "\t\tself.conv = nn.Conv2d(in_planes, out_planes, kernel_size=kernel_size, stride=stride, padding=padding,\n",
    "\t\t                      dilation=dilation, groups=groups, bias=bias)\n",
    "\t\tself.bn = nn.BatchNorm2d(out_planes, eps=1e-5, momentum=0.01, affine=True) if bn else None\n",
    "\t\tself.relu = act_layer if relu else None\n",
    "\n",
    "\tdef forward(self, x):\n",
    "\t\tx = self.conv(x)\n",
    "\t\tif self.bn is not None:\n",
    "\t\t\tx = self.bn(x)\n",
    "\t\tif self.relu is not None:\n",
    "\t\t\tx = self.relu(x, inplace=True)\n",
    "\t\treturn x\n",
    "\n",
    "\n",
    "class ChannelPool(nn.Module):\n",
    "\tdef forward(self, x):\n",
    "\t\treturn torch.cat((torch.max(x, 1)[0].unsqueeze(1), torch.mean(x, 1).unsqueeze(1)), dim=1)\n",
    "\n",
    "\n",
    "class SpatialGate(nn.Module):\n",
    "\tdef __init__(self, act_layer=nn.ReLU, kernel_size=7):\n",
    "\t\tsuper(SpatialGate, self).__init__()\n",
    "\t\tself.compress = ChannelPool()\n",
    "\t\tself.spatial = BasicConv(2, 1, kernel_size, stride=1, padding=(kernel_size - 1) // 2, relu=False,\n",
    "\t\t                         act_layer=act_layer)\n",
    "\n",
    "\tdef forward(self, x):\n",
    "\t\tx_compress = self.compress(x)\n",
    "\t\tx_out = self.spatial(x_compress)\n",
    "\t\tscale = torch.sigmoid_(x_out)\n",
    "\t\treturn x * scale\n",
    "\n",
    "\n",
    "class TripletAttention(nn.Module):\n",
    "\tdef __init__(self, gate_channels, reduction_ratio=16, pool_types=['avg', 'max'], no_spatial=False,\n",
    "\t             act_layer=nn.ReLU, kernel_size=7):\n",
    "\t\tsuper(TripletAttention, self).__init__()\n",
    "\t\tself.ChannelGateH = SpatialGate(act_layer=act_layer, kernel_size=kernel_size)\n",
    "\t\tself.ChannelGateW = SpatialGate(act_layer=act_layer, kernel_size=kernel_size)\n",
    "\t\tself.no_spatial = no_spatial\n",
    "\t\tif not no_spatial:\n",
    "\t\t\tself.SpatialGate = SpatialGate(kernel_size=kernel_size)\n",
    "\n",
    "\tdef forward(self, x):\n",
    "\t\tx_perm1 = x.permute(0, 2, 1, 3).contiguous()\n",
    "\t\tx_out1 = self.ChannelGateH(x_perm1)\n",
    "\t\tx_out11 = x_out1.permute(0, 2, 1, 3).contiguous()\n",
    "\t\tx_perm2 = x.permute(0, 3, 2, 1).contiguous()\n",
    "\t\tx_out2 = self.ChannelGateW(x_perm2)\n",
    "\t\tx_out21 = x_out2.permute(0, 3, 2, 1).contiguous()\n",
    "\t\tif not self.no_spatial:\n",
    "\t\t\tx_out = self.SpatialGate(x)\n",
    "\t\t\tx_out = (1 / 3) * (x_out + x_out11 + x_out21)\n",
    "\t\telse:\n",
    "\t\t\tx_out = (1 / 2) * (x_out11 + x_out21)\n",
    "\t\treturn x_out\n",
    "\n",
    "\n",
    "from timm.models.layers import get_act_layer\n",
    "\n",
    "\n",
    "class BlockAttentionModel(nn.Module):\n",
    "\tdef __init__(\n",
    "\t\t\tself,\n",
    "\t\t\tbackbone: nn.Module,\n",
    "\t\t\tn_features: int,\n",
    "\t):\n",
    "\t\t\"\"\"Initialize\"\"\"\n",
    "\t\tsuper(BlockAttentionModel, self).__init__()\n",
    "\t\tself.backbone = backbone\n",
    "\t\tself.n_features = n_features\n",
    "\t\tself.pooling = 'gem'\n",
    "\n",
    "\t\tact_layer = nn.ReLU\n",
    "\n",
    "\t\tif True:\n",
    "\t\t\tself.attention = TripletAttention(self.n_features,\n",
    "\t\t\t                                  act_layer=act_layer,\n",
    "\t\t\t                                  kernel_size=13)\n",
    "\t\telse:\n",
    "\t\t\tself.attention = nn.Identity()\n",
    "\n",
    "\t\tif self.pooling == 'avg':\n",
    "\t\t\tself.global_pool = torch.nn.AdaptiveAvgPool2d(1)\n",
    "\t\telif self.pooling == 'gem':\n",
    "\t\t\tself.global_pool = GeMP(p=4, learn_p=False)\n",
    "\t\telif self.pooling == 'max':\n",
    "\t\t\tself.global_pool = torch.nn.AdaptiveMaxPool2d(1)\n",
    "\t\telif self.pooling == 'nop':\n",
    "\t\t\tself.global_pool = torch.nn.Identity()\n",
    "\t\telse:\n",
    "\t\t\traise NotImplementedError(f'Invalid pooling type: {self.pooling}')\n",
    "\n",
    "\t\tself.head = nn.Linear(self.n_features, 1)\n",
    "\n",
    "\tdef _init_params(self):\n",
    "\t\tnn.init.xavier_normal_(self.fc.weight)\n",
    "\t\tif type(self.fc.bias) == torch.nn.parameter.Parameter:\n",
    "\t\t\tnn.init.constant_(self.fc.bias, 0)\n",
    "\t\tnn.init.constant_(self.bn.weight, 1)\n",
    "\t\tnn.init.constant_(self.bn.bias, 0)\n",
    "\n",
    "\tdef forward(self, x, t=None):\n",
    "\t\t\"\"\"Forward\"\"\"\n",
    "\t\tx = self.backbone(x)\n",
    "\t\tx = self.attention(x)\n",
    "\t\tx = self.global_pool(x)\n",
    "\t\tx = x.view(x.size(0), -1)\n",
    "\t\tif self.drop_rate:\n",
    "\t\t\tx = F.dropout(x, p=float(self.drop_rate), training=self.training)\n",
    "\t\tx = self.head(x)\n",
    "\t\treturn x\n",
    "\n",
    "\n",
    "\n"
   ]
  },
  {
   "cell_type": "markdown",
   "metadata": {
    "id": "4t9QFMaWL8UB"
   },
   "source": [
    "# Train and Validation Functions"
   ]
  },
  {
   "cell_type": "markdown",
   "metadata": {
    "id": "ICwkAc81L-gl"
   },
   "source": [
    "## 1. Train Function"
   ]
  },
  {
   "cell_type": "code",
   "execution_count": null,
   "metadata": {
    "execution": {
     "iopub.execute_input": "2021-10-04T14:23:54.003045Z",
     "iopub.status.busy": "2021-10-04T14:23:54.002756Z",
     "iopub.status.idle": "2021-10-04T14:23:54.020052Z",
     "shell.execute_reply": "2021-10-04T14:23:54.018601Z",
     "shell.execute_reply.started": "2021-10-04T14:23:54.003017Z"
    },
    "id": "lPx4HwTbL3_N",
    "pycharm": {
     "is_executing": true
    }
   },
   "outputs": [],
   "source": [
    "rmse = []\n",
    "std = []\n",
    "\n",
    "\n",
    "def train_fn(train_loader, model, criterion, optimizer, epoch, params, scheduler=None):\n",
    "\tmetric_monitor = MetricMonitor()\n",
    "\tmodel.train()\n",
    "\tstream = tqdm(train_loader)\n",
    "\n",
    "\tfor i, (images, dense, target) in enumerate(stream, start=1):\n",
    "\t\tif params['mixup']:\n",
    "\t\t\timages, dense, target_a, target_b, lam = mixup_data(images, dense, target.view(-1, 1), params)\n",
    "\t\t\timages = images.to(params['device'], dtype=torch.float)\n",
    "\t\t\tdense = dense.to(params['device'], dtype=torch.float)\n",
    "\t\t\ttarget_a = target_a.to(params['device'], dtype=torch.float)\n",
    "\t\t\ttarget_b = target_b.to(params['device'], dtype=torch.float)\n",
    "\t\telse:\n",
    "\t\t\timages = images.to(params['device'], non_blocking=True)\n",
    "\t\t\tdense = dense.to(params['device'], non_blocking=True)\n",
    "\t\t\ttarget = target.to(params['device'], non_blocking=True).float().view(-1, 1)\n",
    "\n",
    "\t\toutput = model(images)\n",
    "\n",
    "\t\tif params['mixup']:\n",
    "\t\t\tloss = mixup_criterion(criterion, output, target_a, target_b, lam)\n",
    "\t\telse:\n",
    "\t\t\tloss = criterion(output, target)\n",
    "\t\trmse_score = usr_rmse_score(output, target)\n",
    "\t\trmse.append(rmse_score)\n",
    "\t\tstd.append()\n",
    "\n",
    "\n",
    "\t\tmetric_monitor.update('Loss', loss.item())\n",
    "\t\tmetric_monitor.update('RMSE', rmse_score)\n",
    "\t\tloss.backward()\n",
    "\t\toptimizer.step()\n",
    "\n",
    "\t\tif scheduler is not None:\n",
    "\t\t\tscheduler.step()\n",
    "\n",
    "\t\toptimizer.zero_grad()\n",
    "\t\tstream.set_description(f\"Epoch: {epoch:02}. Train. {metric_monitor}\")"
   ]
  },
  {
   "cell_type": "markdown",
   "metadata": {
    "id": "wKVjdmIbMrN4"
   },
   "source": [
    "## 2. Validate Function"
   ]
  },
  {
   "cell_type": "code",
   "execution_count": null,
   "metadata": {
    "execution": {
     "iopub.execute_input": "2021-10-04T14:23:54.022771Z",
     "iopub.status.busy": "2021-10-04T14:23:54.022391Z",
     "iopub.status.idle": "2021-10-04T14:23:54.037506Z",
     "shell.execute_reply": "2021-10-04T14:23:54.036312Z",
     "shell.execute_reply.started": "2021-10-04T14:23:54.022727Z"
    },
    "id": "d07oClh-MnzD",
    "pycharm": {
     "is_executing": true
    }
   },
   "outputs": [],
   "source": [
    "def validate_fn(val_loader, model, criterion, epoch, params):\n",
    "\tmetric_monitor = MetricMonitor()\n",
    "\tmodel.eval()\n",
    "\tstream = tqdm(val_loader)\n",
    "\tfinal_targets = []\n",
    "\tfinal_outputs = []\n",
    "\twith torch.no_grad():\n",
    "\t\tfor i, (images, dense, target) in enumerate(stream, start=1):\n",
    "\t\t\timages = images.to(params['device'], non_blocking=True)\n",
    "\t\t\tdense = dense.to(params['device'], non_blocking=True)\n",
    "\t\t\ttarget = target.to(params['device'], non_blocking=True).float().view(-1, 1)\n",
    "\t\t\toutput = model(images, dense)\n",
    "\t\t\tloss = criterion(output, target)\n",
    "\t\t\trmse_score = usr_rmse_score(output, target)\n",
    "\t\t\tmetric_monitor.update('Loss', loss.item())\n",
    "\t\t\tmetric_monitor.update('RMSE', rmse_score)\n",
    "\t\t\tstream.set_description(f\"Epoch: {epoch:02}. Valid. {metric_monitor}\")\n",
    "\n",
    "\t\t\ttargets = (target.detach().cpu().numpy() * 100).tolist()\n",
    "\t\t\toutputs = (torch.sigmoid(output).detach().cpu().numpy() * 100).tolist()\n",
    "\n",
    "\t\t\tfinal_targets.extend(targets)\n",
    "\t\t\tfinal_outputs.extend(outputs)\n",
    "\treturn final_outputs, final_targets"
   ]
  },
  {
   "cell_type": "markdown",
   "metadata": {
    "id": "dlPu51_fMysB"
   },
   "source": [
    "# Run"
   ]
  },
  {
   "cell_type": "code",
   "execution_count": null,
   "metadata": {
    "execution": {
     "iopub.execute_input": "2021-10-04T14:23:54.041509Z",
     "iopub.status.busy": "2021-10-04T14:23:54.040837Z",
     "iopub.status.idle": "2021-10-04T14:23:54.05301Z",
     "shell.execute_reply": "2021-10-04T14:23:54.051928Z",
     "shell.execute_reply.started": "2021-10-04T14:23:54.041465Z"
    },
    "id": "hmgk5aQ1MwmG",
    "pycharm": {
     "is_executing": true
    }
   },
   "outputs": [],
   "source": [
    "best_models_of_each_fold = []\n",
    "rmse_tracker = []"
   ]
  },
  {
   "cell_type": "code",
   "execution_count": null,
   "metadata": {
    "_kg_hide-output": true,
    "execution": {
     "iopub.execute_input": "2021-10-04T14:23:54.055461Z",
     "iopub.status.busy": "2021-10-04T14:23:54.055106Z"
    },
    "pycharm": {
     "is_executing": true
    }
   },
   "outputs": [],
   "source": [
    "for fold in TRAIN_FOLDS:\n",
    "\tprint(''.join(['#'] * 50))\n",
    "\tprint(f\"{''.join(['='] * 15)} TRAINING FOLD: {fold + 1}/{train_df['kfold'].nunique()} {''.join(['='] * 15)}\")\n",
    "\t# Data Split to train and Validation\n",
    "\ttrain = train_df[train_df['kfold'] != fold]\n",
    "\tvalid = train_df[train_df['kfold'] == fold]\n",
    "\n",
    "\tX_train = train['image_path']\n",
    "\tX_train_dense = train[params['dense_features']]\n",
    "\ty_train = train['Pawpularity'] / 100\n",
    "\tX_valid = valid['image_path']\n",
    "\tX_valid_dense = valid[params['dense_features']]\n",
    "\ty_valid = valid['Pawpularity'] / 100\n",
    "\n",
    "\t# Pytorch Dataset Creation\n",
    "\ttrain_dataset = CuteDataset(\n",
    "\t\timages_filepaths=X_train.values,\n",
    "\t\tdense_features=X_train_dense.values,\n",
    "\t\ttargets=y_train.values,\n",
    "\t\ttransform=get_train_transforms()\n",
    "\t)\n",
    "\n",
    "\tvalid_dataset = CuteDataset(\n",
    "\t\timages_filepaths=X_valid.values,\n",
    "\t\tdense_features=X_valid_dense.values,\n",
    "\t\ttargets=y_valid.values,\n",
    "\t\ttransform=get_valid_transforms()\n",
    "\t)\n",
    "\n",
    "\t# Pytorch Dataloader creation\n",
    "\ttrain_loader = DataLoader(\n",
    "\t\ttrain_dataset, batch_size=params['batch_size'], shuffle=True,\n",
    "\t\tnum_workers=params['num_workers'], pin_memory=True\n",
    "\t)\n",
    "\n",
    "\tval_loader = DataLoader(\n",
    "\t\tvalid_dataset, batch_size=params['batch_size'], shuffle=False,\n",
    "\t\tnum_workers=params['num_workers'], pin_memory=True\n",
    "\t)\n",
    "\tbackbone = timm.create_model(params['model'], pretrained=True,\n",
    "\t                             in_chans=params['inp_channels'])\n",
    "\tn_features = backbone.num_features\n",
    "\tbackbone.reset_classifier(0, '')\n",
    "\t# Model, cost function and optimizer instancing\n",
    "\tmodel = BlockAttentionModel(backbone, n_features)\n",
    "\tmodel = model.to(params['device'])\n",
    "\tcriterion = nn.BCEWithLogitsLoss()\n",
    "\toptimizer = torch.optim.AdamW(model.parameters(), lr=params['lr'],\n",
    "\t                              weight_decay=params['weight_decay'],\n",
    "\t                              amsgrad=False)\n",
    "\tscheduler = get_scheduler(optimizer)\n",
    "\n",
    "\t# Training and Validation Loop\n",
    "\tbest_rmse = np.inf\n",
    "\tbest_epoch = np.inf\n",
    "\tbest_model_name = None\n",
    "\tfor epoch in range(1, params['epochs'] + 1):\n",
    "\t\ttrain_fn(train_loader, model, criterion, optimizer, epoch, params, scheduler)\n",
    "\t\tpredictions, valid_targets = validate_fn(val_loader, model, criterion, epoch, params)\n",
    "\t\trmse = round(mean_squared_error(valid_targets, predictions, squared=False), 3)\n",
    "\t\tif rmse < best_rmse:\n",
    "\t\t\tbest_rmse = rmse\n",
    "\t\t\tbest_epoch = epoch\n",
    "\t\t\tif best_model_name is not None:\n",
    "\t\t\t\tos.remove(best_model_name)\n",
    "\t\t\ttorch.save(model.state_dict(),\n",
    "\t\t\t           f\"{params['model']}_{epoch}_epoch_f{fold + 1}_{rmse}_rmse.pth\")\n",
    "\t\t\tbest_model_name = f\"{params['model']}_{epoch}_epoch_f{fold + 1}_{rmse}_rmse.pth\"\n",
    "\n",
    "\t# Print summary of this fold\n",
    "\tprint('')\n",
    "\tprint(f'The best RMSE: {best_rmse} for fold {fold + 1} was achieved on epoch: {best_epoch}.')\n",
    "\tprint(f'The Best saved model is: {best_model_name}')\n",
    "\tbest_models_of_each_fold.append(best_model_name)\n",
    "\trmse_tracker.append(best_rmse)\n",
    "\tprint(''.join(['#'] * 50))\n",
    "\tdel model\n",
    "\tgc.collect()\n",
    "\ttorch.cuda.empty_cache()\n",
    "\n",
    "print('')\n",
    "print(f'Average RMSE of all folds: {round(np.mean(rmse_tracker), 4)}')"
   ]
  },
  {
   "cell_type": "code",
   "execution_count": null,
   "metadata": {
    "id": "DLW11PItOY0Z",
    "pycharm": {
     "is_executing": true
    }
   },
   "outputs": [],
   "source": [
    "rmse = []\n",
    "std = []\n",
    "\n",
    "\n",
    "def train_fn(train_loader, model, criterion, optimizer, epoch, params, scheduler=None):\n",
    "\tmetric_monitor = MetricMonitor()\n",
    "\tmodel.train()\n",
    "\tstream = tqdm(train_loader)\n",
    "\n",
    "\tfor i, (images, dense, target) in enumerate(stream, start=1):\n",
    "\t\tif params['mixup']:\n",
    "\t\t\timages, dense, target_a, target_b, lam = mixup_data(images, dense, target.view(-1, 1), params)\n",
    "\t\t\timages = images.to(params['device'], dtype=torch.float)\n",
    "\t\t\tdense = dense.to(params['device'], dtype=torch.float)\n",
    "\t\t\ttarget_a = target_a.to(params['device'], dtype=torch.float)\n",
    "\t\t\ttarget_b = target_b.to(params['device'], dtype=torch.float)\n",
    "\t\telse:\n",
    "\t\t\timages = images.to(params['device'], non_blocking=True)\n",
    "\t\t\tdense = dense.to(params['device'], non_blocking=True)\n",
    "\t\t\ttarget = target.to(params['device'], non_blocking=True).float().view(-1, 1)\n",
    "\n",
    "\t\toutput = model(images)\n",
    "\n",
    "\t\tif params['mixup']:\n",
    "\t\t\tloss = mixup_criterion(criterion, output, target_a, target_b, lam)\n",
    "\t\telse:\n",
    "\t\t\tloss = criterion(output, target)\n",
    "\n",
    "\t\trmse_score = usr_rmse_score(output, target)\n",
    "\n",
    "\t\t\\\n",
    "\t\tmetric_monitor.update('Loss', loss.item())\n",
    "\t\tmetric_monitor.update('RMSE', rmse_score)\n",
    "\t\tloss.backward()\n",
    "\t\toptimizer.step()\n",
    "\n",
    "\t\tif scheduler is not None:\n",
    "\t\t\tscheduler.step()\n",
    "\n",
    "\t\toptimizer.zero_grad()\n",
    "\t\tstream.set_description(f\"Epoch: {epoch:02}. Train. {metric_monitor}\")\n",
    "\n",
    "\n",
    "for i, name in enumerate(best_models_of_each_fold):\n",
    "\tprint(f'Best model of fold {i + 1}: {name}')"
   ]
  },
  {
   "cell_type": "markdown",
   "metadata": {},
   "source": [
    "This is a simple starter kernel on implementation of Transfer Learning using Pytorch for this problem. Pytorch has many SOTA Image models which you can try out using the guidelines in this notebook.\n",
    "\n",
    "I hope you have learnt something from this notebook. I have created this notebook as a baseline model, which you can easily fork and paly-around with to get much better results. I might update parts of it down the line when I get more GPU hours and some interesting ideas.\n",
    "\n",
    "**If you liked this notebook and use parts of it in you code, please show some support by upvoting this kernel. It keeps me inspired to come-up with such starter kernels and share it with the community.**\n",
    "\n",
    "Thanks and happy kaggling!"
   ]
  }
 ],
 "metadata": {
  "kernelspec": {
   "display_name": "Python 3",
   "language": "python",
   "name": "python3"
  },
  "language_info": {
   "codemirror_mode": {
    "name": "ipython",
    "version": 3
   },
   "file_extension": ".py",
   "mimetype": "text/x-python",
   "name": "python",
   "nbconvert_exporter": "python",
   "pygments_lexer": "ipython3",
   "version": "3.7.10"
  }
 },
 "nbformat": 4,
 "nbformat_minor": 4
}