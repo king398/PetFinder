{
 "cells": [
  {
   "cell_type": "code",
   "execution_count": null,
   "metadata": {
    "colab": {
     "base_uri": "https://localhost:8080/",
     "height": 1000,
     "resources": {
      "http://localhost:8080/nbextensions/google.colab/files.js": {
       "data": "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",
       "headers": [
        [
         "content-type",
         "application/javascript"
        ]
       ],
       "ok": true,
       "status": 200,
       "status_text": ""
      }
     }
    },
    "execution": {
     "iopub.execute_input": "2022-01-01T09:51:57.731822Z",
     "iopub.status.busy": "2022-01-01T09:51:57.731086Z",
     "iopub.status.idle": "2022-01-01T09:52:05.498923Z",
     "shell.execute_reply": "2022-01-01T09:52:05.498009Z",
     "shell.execute_reply.started": "2022-01-01T09:51:57.731726Z"
    },
    "id": "ARP1Ry6yOuUz",
    "outputId": "c52406b0-a1b8-4794-8d81-4f6f97b0645e",
    "trusted": true
   },
   "outputs": [],
   "source": [
    "!nvidia-smi\n",
    "from google.colab import files\n",
    "files.upload()\n",
    "\n",
    "!pip install --ignore-installed --upgrade kaggle\n",
    "! mkdir ~/.kaggle\n",
    "! cp kaggle.json ~/.kaggle/\n",
    "! chmod 600 ~/.kaggle/kaggle.json\n",
    "!kaggle competitions download -c petfinder-pawpularity-score\n",
    "!unzip petfinder-pawpularity-score.zip\n",
    "!kaggle datasets download -d mithilsalunkhe/no-dupes-rice-fold\n",
    "!unzip no-dupes-rice-fold.zip\n",
    "!kaggle datasets download -d phalanx/petfinder2-cropped-dataset\n",
    "!unzip petfinder2-cropped-dataset.zip\n",
    "!kaggle datasets download -d mithilsalunkhe/pseudo-with-old-comp\n",
    "!mkdir pseudo\n",
    "!unzip /content/pseudo-with-old-comp.zip -d pseudo\n",
    "\n",
    "!pip install -qq timm\n",
    "!pip install -U git+https://github.com/albu/albumentations --no-cache-dir -qqq\n",
    "\n",
    "!pip uninstall opencv_python_headless\n",
    "\n",
    "!pip install opencv-python-headless==4.5.4.60\n",
    "!pip install -qq albumentations==1.0.3\n",
    "!pip install -qq grad-cam\n",
    "!pip install -qq ttach\n",
    "!pip install -qq scikit-learn==0.24.0\n",
    "!pip install -qq fastai\n",
    "!pip install -qq fastai --upgrade"
   ]
  },
  {
   "cell_type": "code",
   "execution_count": null,
   "metadata": {
    "colab": {
     "base_uri": "https://localhost:8080/"
    },
    "id": "NZkY1aWlQz0I",
    "outputId": "8f8241a4-bac3-464f-c4ba-c669ee581918"
   },
   "outputs": [],
   "source": [
    "!unzip no-dupes-rice-fold.zip\n"
   ]
  },
  {
   "cell_type": "code",
   "execution_count": null,
   "metadata": {
    "id": "DpP_CjNfOwF1"
   },
   "outputs": [],
   "source": [
    "import sys\n",
    "from timm import create_model\n",
    "\n",
    "from timm.data.mixup import Mixup\n",
    "\n",
    "from fastai.vision.all import *\n",
    "#from fastai.callback.hook import *"
   ]
  },
  {
   "cell_type": "code",
   "execution_count": null,
   "metadata": {
    "execution": {
     "iopub.execute_input": "2022-01-01T09:52:05.501313Z",
     "iopub.status.busy": "2022-01-01T09:52:05.501038Z",
     "iopub.status.idle": "2022-01-01T09:52:05.507355Z",
     "shell.execute_reply": "2022-01-01T09:52:05.506515Z",
     "shell.execute_reply.started": "2022-01-01T09:52:05.501272Z"
    },
    "id": "66QDNVH8OuU1",
    "trusted": true
   },
   "outputs": [],
   "source": [
    "set_seed(365, reproducible=True)\n",
    "BATCH_SIZE = 8\n",
    "NEED_TRAIN = True"
   ]
  },
  {
   "cell_type": "code",
   "execution_count": null,
   "metadata": {
    "colab": {
     "base_uri": "https://localhost:8080/",
     "height": 206
    },
    "execution": {
     "iopub.execute_input": "2022-01-01T09:52:05.509401Z",
     "iopub.status.busy": "2022-01-01T09:52:05.509119Z",
     "iopub.status.idle": "2022-01-01T09:52:05.668927Z",
     "shell.execute_reply": "2022-01-01T09:52:05.667946Z",
     "shell.execute_reply.started": "2022-01-01T09:52:05.509361Z"
    },
    "id": "w79YbY25OuU2",
    "outputId": "9c21fe6e-4bed-4361-b5b1-f6217cba2e47",
    "trusted": true
   },
   "outputs": [],
   "source": [
    "\"\"\"clean_dataset_path = Path('../input/petfinder-pawpularity-score-clean/')\n",
    "clean_dataset_path.ls()\n",
    "\n",
    "dataset_path = Path('../input/petfinder-pawpularity-score/')\n",
    "dataset_path.ls()\n",
    "\n",
    "train_df = pd.read_csv(clean_dataset_path/'train.csv')\n",
    "\n",
    "train_df['path'] = train_df['Id'].map(lambda x:str(clean_dataset_path/'train'/x)+'.jpg')\"\"\"\n",
    "train_df = pd.read_csv('/content/train_10folds.csv')\n",
    "dataset_path = Path('/content/train')\n",
    "train_df['path'] = train_df['Id'].map(lambda x: str(dataset_path/x) + '.jpg')\n",
    "train_df = train_df.drop(columns=['Id'])\n",
    "train_df = train_df.sample(frac=1).reset_index(drop=True) #shuffle dataframe\n",
    "train_df.head()"
   ]
  },
  {
   "cell_type": "code",
   "execution_count": null,
   "metadata": {
    "colab": {
     "base_uri": "https://localhost:8080/",
     "height": 410
    },
    "execution": {
     "iopub.execute_input": "2022-01-01T09:52:05.671550Z",
     "iopub.status.busy": "2022-01-01T09:52:05.671279Z",
     "iopub.status.idle": "2022-01-01T09:52:05.932197Z",
     "shell.execute_reply": "2022-01-01T09:52:05.931535Z",
     "shell.execute_reply.started": "2022-01-01T09:52:05.671514Z"
    },
    "id": "5d8uBQGAOuU3",
    "outputId": "1f97dfdb-1693-4947-8841-a772c90d7303",
    "trusted": true
   },
   "outputs": [],
   "source": [
    "len_df = len(train_df)\n",
    "print(f\"There are {len_df} images\")\n",
    "\n",
    "train_df['Pawpularity'].hist(figsize = (10, 5))\n",
    "print(f\"The mean Pawpularity score is {train_df['Pawpularity'].mean()}\")\n",
    "print(f\"The median Pawpularity score is {train_df['Pawpularity'].median()}\")\n",
    "print(f\"The standard deviation of the Pawpularity score is {train_df['Pawpularity'].std()}\")\n",
    "\n",
    "print(f\"There are {len(train_df['Pawpularity'].unique())} unique values of Pawpularity score\")"
   ]
  },
  {
   "cell_type": "code",
   "execution_count": null,
   "metadata": {
    "colab": {
     "base_uri": "https://localhost:8080/"
    },
    "execution": {
     "iopub.execute_input": "2022-01-01T09:52:05.934748Z",
     "iopub.status.busy": "2022-01-01T09:52:05.933332Z",
     "iopub.status.idle": "2022-01-01T09:52:05.945071Z",
     "shell.execute_reply": "2022-01-01T09:52:05.944001Z",
     "shell.execute_reply.started": "2022-01-01T09:52:05.934704Z"
    },
    "id": "zVb_5VJxOuU4",
    "outputId": "7edb1983-ab07-4dac-bb12-9f7e87573fa2",
    "trusted": true
   },
   "outputs": [],
   "source": [
    "train_df['norm_score'] = train_df['Pawpularity']/100\n",
    "train_df['norm_score']\n"
   ]
  },
  {
   "cell_type": "code",
   "execution_count": null,
   "metadata": {
    "colab": {
     "base_uri": "https://localhost:8080/"
    },
    "execution": {
     "iopub.execute_input": "2022-01-01T09:52:05.947219Z",
     "iopub.status.busy": "2022-01-01T09:52:05.946770Z",
     "iopub.status.idle": "2022-01-01T09:52:15.008990Z",
     "shell.execute_reply": "2022-01-01T09:52:15.007992Z",
     "shell.execute_reply.started": "2022-01-01T09:52:05.947175Z"
    },
    "id": "szW7GzuZOuU5",
    "outputId": "807e038d-8b77-4204-f910-af6a6a47bfd7",
    "trusted": true
   },
   "outputs": [],
   "source": [
    "if not os.path.exists('/root/.cache/torch/hub/checkpoints/'):\n",
    "    os.makedirs('/root/.cache/torch/hub/checkpoints/')\n",
    "!cp '../input/swin-transformer/swin_large_patch4_window7_224_22kto1k.pth' '/root/.cache/torch/hub/checkpoints/swin_large_patch4_window7_224_22kto1k.pth'"
   ]
  },
  {
   "cell_type": "code",
   "execution_count": null,
   "metadata": {
    "execution": {
     "iopub.execute_input": "2022-01-01T09:52:15.011322Z",
     "iopub.status.busy": "2022-01-01T09:52:15.011042Z",
     "iopub.status.idle": "2022-01-01T09:52:15.016994Z",
     "shell.execute_reply": "2022-01-01T09:52:15.015841Z",
     "shell.execute_reply.started": "2022-01-01T09:52:15.011282Z"
    },
    "id": "uAOUkajJOuU5",
    "trusted": true
   },
   "outputs": [],
   "source": [
    "seed=365\n",
    "set_seed(seed, reproducible=True)\n",
    "torch.manual_seed(seed)\n",
    "torch.cuda.manual_seed(seed)\n",
    "torch.backends.cudnn.deterministic = True\n",
    "torch.use_deterministic_algorithms = True"
   ]
  },
  {
   "cell_type": "code",
   "execution_count": null,
   "metadata": {
    "colab": {
     "base_uri": "https://localhost:8080/",
     "height": 92
    },
    "execution": {
     "iopub.execute_input": "2022-01-01T09:52:15.019046Z",
     "iopub.status.busy": "2022-01-01T09:52:15.018488Z",
     "iopub.status.idle": "2022-01-01T09:52:15.029742Z",
     "shell.execute_reply": "2022-01-01T09:52:15.028993Z",
     "shell.execute_reply.started": "2022-01-01T09:52:15.019007Z"
    },
    "id": "ZgPcwzTmOuU5",
    "outputId": "c405f5b2-8c67-4897-ebee-bea32929f89a",
    "trusted": true
   },
   "outputs": [],
   "source": [
    "\"\"\"#Sturges' rule\n",
    "num_bins = int(np.floor(1+np.log2(len(train_df))))\n",
    "num_bins\n",
    "\n",
    "train_df['bins'] = pd.cut(train_df['norm_score'], bins=num_bins, labels=False)\n",
    "train_df['bins'].hist()\n",
    "\n",
    "#from sklearn.model_selection import KFold\n",
    "from sklearn.model_selection import StratifiedKFold\n",
    "\n",
    "train_df['fold'] = -1\n",
    "\n",
    "\n",
    "N_FOLDS = 10\n",
    "strat_kfold = StratifiedKFold(n_splits=N_FOLDS, random_state=seed, shuffle=True)\n",
    "for i, (_, train_index) in enumerate(strat_kfold.split(train_df.index, train_df['bins'])):\n",
    "    train_df.iloc[train_index, -1] = i\n",
    "    \n",
    "train_df['fold'] = train_df['fold'].astype('int')\n",
    "\n",
    "train_df.fold.value_counts().plot.bar()\n",
    "\n",
    "train_df[train_df['fold']==0].head()\n",
    "\n",
    "train_df[train_df['fold']==0]['bins'].value_counts()\n",
    "\n",
    "train_df[train_df['fold']==1]['bins'].value_counts()\"\"\""
   ]
  },
  {
   "cell_type": "code",
   "execution_count": null,
   "metadata": {
    "execution": {
     "iopub.execute_input": "2022-01-01T09:52:15.031280Z",
     "iopub.status.busy": "2022-01-01T09:52:15.030936Z",
     "iopub.status.idle": "2022-01-01T09:52:15.039211Z",
     "shell.execute_reply": "2022-01-01T09:52:15.038443Z",
     "shell.execute_reply.started": "2022-01-01T09:52:15.031243Z"
    },
    "id": "LcFJdC0gOuU6",
    "trusted": true
   },
   "outputs": [],
   "source": [
    "def petfinder_rmse(input,target):\n",
    "    return 100*torch.sqrt(F.mse_loss(F.sigmoid(input.flatten()), target))"
   ]
  },
  {
   "cell_type": "code",
   "execution_count": null,
   "metadata": {},
   "outputs": [],
   "source": [
    "import logging\n",
    "import random\n",
    "import albumentations\n",
    "\n",
    "import numpy as np\n",
    "import PIL\n",
    "import PIL.ImageOps\n",
    "import PIL.ImageEnhance\n",
    "import PIL.ImageDraw\n",
    "from PIL import Image\n",
    "from audioop import bias\n",
    "from albumentations.core.transforms_interface import NoOp\n",
    "\n",
    "logger = logging.getLogger(__name__)\n",
    "\n",
    "PARAMETER_MAX = 10\n",
    "RESAMPLE_MODE = None\n",
    "\n",
    "\n",
    "def AutoContrast(img, **kwarg):\n",
    "    return PIL.ImageOps.autocontrast(img)\n",
    "\n",
    "\n",
    "def Brightness(img, v, max_v, bias=0):\n",
    "    v = _float_parameter(v, max_v) + bias\n",
    "    return PIL.ImageEnhance.Brightness(img).enhance(v)\n",
    "\n",
    "\n",
    "def Color(img, v, max_v, bias=0):\n",
    "    v = _float_parameter(v, max_v) + bias\n",
    "    return PIL.ImageEnhance.Color(img).enhance(v)\n",
    "\n",
    "\n",
    "def Contrast(img, v, max_v, bias=0):\n",
    "    v = _float_parameter(v, max_v) + bias\n",
    "    return PIL.ImageEnhance.Contrast(img).enhance(v)\n",
    "\n",
    "\n",
    "def Cutout(img, v, max_v, **kwarg):\n",
    "    if v == 0:\n",
    "        return img\n",
    "    v = _float_parameter(v, max_v)\n",
    "    v = int(v * min(img.size))\n",
    "    w, h = img.size\n",
    "    x0 = np.random.uniform(0, w)\n",
    "    y0 = np.random.uniform(0, h)\n",
    "    x0 = int(max(0, x0 - v / 2.))\n",
    "    y0 = int(max(0, y0 - v / 2.))\n",
    "    x1 = int(min(w, x0 + v))\n",
    "    y1 = int(min(h, y0 + v))\n",
    "    xy = (x0, y0, x1, y1)\n",
    "    # gray\n",
    "    color = (127, 127, 127)\n",
    "    img = img.copy()\n",
    "    PIL.ImageDraw.Draw(img).rectangle(xy, color)\n",
    "    return img\n",
    "\n",
    "\n",
    "def CutoutConst(img, v, max_v, **kwarg):\n",
    "    v = _int_parameter(v, max_v)\n",
    "    w, h = img.size\n",
    "    x0 = np.random.uniform(0, w)\n",
    "    y0 = np.random.uniform(0, h)\n",
    "    x0 = int(max(0, x0 - v / 2.))\n",
    "    y0 = int(max(0, y0 - v / 2.))\n",
    "    x1 = int(min(w, x0 + v))\n",
    "    y1 = int(min(h, y0 + v))\n",
    "    xy = (x0, y0, x1, y1)\n",
    "    # gray\n",
    "    color = (127, 127, 127)\n",
    "    img = img.copy()\n",
    "    PIL.ImageDraw.Draw(img).rectangle(xy, color)\n",
    "    return img\n",
    "\n",
    "\n",
    "def Equalize(img, **kwarg):\n",
    "    return PIL.ImageOps.equalize(img)\n",
    "\n",
    "\n",
    "def Identity(img, **kwarg):\n",
    "    return img\n",
    "\n",
    "\n",
    "def Invert(img, **kwarg):\n",
    "    return PIL.ImageOps.invert(img)\n",
    "\n",
    "\n",
    "def Posterize(img, v, max_v, bias, **kwarg):\n",
    "    v = _int_parameter(v, max_v) + bias\n",
    "    return PIL.ImageOps.posterize(img, v)\n",
    "\n",
    "\n",
    "def Rotate(img, v, max_v, **kwarg):\n",
    "    v = _float_parameter(v, max_v)\n",
    "    if random.random() < 0.5:\n",
    "        v = -v\n",
    "    return img.rotate(v)\n",
    "\n",
    "\n",
    "def Sharpness(img, v, max_v, bias):\n",
    "    v = _float_parameter(v, max_v) + bias\n",
    "    return PIL.ImageEnhance.Sharpness(img).enhance(v)\n",
    "\n",
    "\n",
    "def ShearX(img, v, max_v, **kwarg):\n",
    "    v = _float_parameter(v, max_v)\n",
    "    if random.random() < 0.5:\n",
    "        v = -v\n",
    "    return img.transform(img.size, PIL.Image.AFFINE, (1, v, 0, 0, 1, 0), RESAMPLE_MODE)\n",
    "\n",
    "\n",
    "def ShearY(img, v, max_v, **kwarg):\n",
    "    v = _float_parameter(v, max_v)\n",
    "    if random.random() < 0.5:\n",
    "        v = -v\n",
    "    return img.transform(img.size, PIL.Image.AFFINE, (1, 0, 0, v, 1, 0), RESAMPLE_MODE)\n",
    "\n",
    "\n",
    "def Solarize(img, v, max_v, **kwarg):\n",
    "    v = _int_parameter(v, max_v)\n",
    "    return PIL.ImageOps.solarize(img, 256 - v)\n",
    "\n",
    "\n",
    "def SolarizeAdd(img, v, max_v, threshold=128, **kwarg):\n",
    "    v = _int_parameter(v, max_v)\n",
    "    if random.random() < 0.5:\n",
    "        v = -v\n",
    "    img_np = np.array(img).astype(np.int)\n",
    "    img_np = img_np + v\n",
    "    img_np = np.clip(img_np, 0, 255)\n",
    "    img_np = img_np.astype(np.uint8)\n",
    "    img = Image.fromarray(img_np)\n",
    "    return PIL.ImageOps.solarize(img, threshold)\n",
    "\n",
    "\n",
    "def TranslateX(img, v, max_v, **kwarg):\n",
    "    v = _float_parameter(v, max_v)\n",
    "    if random.random() < 0.5:\n",
    "        v = -v\n",
    "    v = int(v * img.size[0])\n",
    "    return img.transform(img.size, PIL.Image.AFFINE, (1, 0, v, 0, 1, 0), RESAMPLE_MODE)\n",
    "\n",
    "\n",
    "def TranslateY(img, v, max_v, **kwarg):\n",
    "    v = _float_parameter(v, max_v)\n",
    "    if random.random() < 0.5:\n",
    "        v = -v\n",
    "    v = int(v * img.size[1])\n",
    "    return img.transform(img.size, PIL.Image.AFFINE, (1, 0, 0, 0, 1, v), RESAMPLE_MODE)\n",
    "\n",
    "\n",
    "def TranslateXConst(img, v, max_v, **kwarg):\n",
    "    v = _float_parameter(v, max_v)\n",
    "    if random.random() > 0.5:\n",
    "        v = -v\n",
    "    return img.transform(img.size, PIL.Image.AFFINE, (1, 0, v, 0, 1, 0), RESAMPLE_MODE)\n",
    "\n",
    "\n",
    "def TranslateYConst(img, v, max_v, **kwarg):\n",
    "    v = _float_parameter(v, max_v)\n",
    "    if random.random() > 0.5:\n",
    "        v = -v\n",
    "    return img.transform(img.size, PIL.Image.AFFINE, (1, 0, 0, 0, 1, v), RESAMPLE_MODE)\n",
    "\n",
    "\n",
    "def _float_parameter(v, max_v):\n",
    "    return float(v) * max_v / PARAMETER_MAX\n",
    "\n",
    "\n",
    "def _int_parameter(v, max_v):\n",
    "    return int(v * max_v / PARAMETER_MAX)\n",
    "\n",
    "\n",
    "def rand_augment_pool():\n",
    "    augs = [(AutoContrast, None, None),\n",
    "            (Brightness, 1.8, 0.1),\n",
    "            (Color, 1.8, 0.1),\n",
    "            (Contrast, 1.8, 0.1),\n",
    "            (Equalize, None, None),\n",
    "            (Invert, None, None),\n",
    "            (Posterize, 4, 0),\n",
    "            (Rotate, 45, None),\n",
    "            (Sharpness, 1.8, 0.1),\n",
    "            (ShearX, 0.3, None),\n",
    "            (ShearY, 0.3, None),\n",
    "            (Solarize, 256, None),\n",
    "            (TranslateXConst, 100, None),\n",
    "            (TranslateYConst, 100, None),\n",
    "            ]\n",
    "    return augs\n",
    "\n",
    "\n",
    "class RandAugment(object):\n",
    "    def __init__(self, n, m, resample_mode=PIL.Image.BILINEAR):\n",
    "        assert n >= 1\n",
    "        assert m >= 1\n",
    "        global RESAMPLE_MODE\n",
    "        RESAMPLE_MODE = resample_mode\n",
    "        self.n = n\n",
    "        self.m = m\n",
    "        self.augment_pool = rand_augment_pool()\n",
    "\n",
    "    def __call__(self, img):\n",
    "        ops = random.choices(self.augment_pool, k=self.n)\n",
    "        for op, max_v, bias in ops:\n",
    "            prob = np.random.uniform(0.2, 0.8)\n",
    "            if random.random() + prob >= 1:\n",
    "                img = op(img, v=self.m, max_v=max_v, bias=bias)\n",
    "        return img\n",
    "Rand = RandAugment(n=4,m=6)\n",
    "class RandAlbumentaion(NoOp):\n",
    "    def apply(self, img, **params):\n",
    "        return Rand(Image.fromarray(img))\n",
    "class AlbumentationsTransform(RandTransform):\n",
    "    \"A transform handler for multiple `Albumentation` transforms\"\n",
    "    split_idx,order=None,2\n",
    "    def __init__(self, train_aug, valid_aug): store_attr()\n",
    "\n",
    "    def before_call(self, b, split_idx):\n",
    "        self.idx = split_idx\n",
    "\n",
    "    def encodes(self, img: PILImage):\n",
    "        if self.idx == 0:\n",
    "            aug_img = self.train_aug(image=np.array(img))['image']\n",
    "        else:\n",
    "            aug_img = self.valid_aug(image=np.array(img))['image']\n",
    "        aug_img = np.moveaxis(aug_img, -1, 0)\n",
    "\n",
    "        return PILImage.create(aug_img)\n",
    "def get_train_aug(): return albumentations.Compose([albumentations.Resize(384,384),RandAlbumentaion()], bbox_params=None, keypoint_params=None, additional_targets=None, p=1.0)\n",
    "\n",
    "def get_valid_aug(): return albumentations.Compose([albumentations.Resize(384,384)], bbox_params=None, keypoint_params=None, additional_targets=None, p=1.0)"
   ]
  },
  {
   "cell_type": "code",
   "execution_count": null,
   "metadata": {},
   "outputs": [],
   "source": [
    "import random\n",
    "\n",
    "import cv2\n",
    "from matplotlib import pyplot as plt\n",
    "\n",
    "import albumentations as A\n",
    "def visualize(image):\n",
    "    plt.figure(figsize=(10, 10))\n",
    "    plt.axis('off')\n",
    "    plt.imshow(image)\n",
    "image = cv2.imread('../input/petfinder-pawpularity-score/train/0007de18844b0dbbb5e1f607da0606e0.jpg')\n",
    "image = cv2.cvtColor(image, cv2.COLOR_BGR2RGB)\n",
    "\n",
    "transform = A.Compose([\n",
    "    A.SomeOf([A.RandomContrast([1.8,0.1]),A.HueSaturationValue(hue_shift_limit=40,sat_shift_limit=40),A.RandomBrightness(limit=[1.8,0.1]),A.Flip(),A.Rotate(limit=45),A.Equalize()̥],n=5)\n",
    "])\n",
    "augmented_image = transform(image=image)['image']\n",
    "visualize(augmented_image)"
   ]
  },
  {
   "cell_type": "markdown",
   "metadata": {},
   "source": []
  },
  {
   "cell_type": "code",
   "execution_count": null,
   "metadata": {
    "execution": {
     "iopub.execute_input": "2022-01-01T09:52:15.042502Z",
     "iopub.status.busy": "2022-01-01T09:52:15.042224Z",
     "iopub.status.idle": "2022-01-01T09:52:15.050472Z",
     "shell.execute_reply": "2022-01-01T09:52:15.049601Z",
     "shell.execute_reply.started": "2022-01-01T09:52:15.042467Z"
    },
    "id": "mTKZMY3eOuU7",
    "trusted": true
   },
   "outputs": [],
   "source": [
    "\n",
    "\n",
    "\n",
    "\n",
    "def get_data(fold):\n",
    "#     train_df_no_val = train_df.query(f'fold != {fold}')\n",
    "#     train_df_val = train_df.query(f'fold == {fold}')\n",
    "    \n",
    "#     train_df_bal = pd.concat([train_df_no_val,train_df_val.sample(frac=1).reset_index(drop=True)])\n",
    "    train_df_f = train_df.copy()\n",
    "    # add is_valid for validation fold\n",
    "    train_df_f['is_valid'] = (train_df_f['kfold'] == fold)\n",
    "    \n",
    "    #mixup_fn = Mixup(**mixup_args)\n",
    "    \n",
    "#     dls = ImageDataLoaders.from_df(train_df_f, #pass in train DataFrame\n",
    "# #                                valid_pct=0.2, #80-20 train-validation random split\n",
    "#                                valid_col='is_valid', #\n",
    "#                                seed=999, #seed\n",
    "#                                fn_col='path', #filename/path is in the second column of the DataFrame\n",
    "#                                label_col='norm_score', #label is in the first column of the DataFrame\n",
    "#                                y_block=RegressionBlock, #The type of target\n",
    "#                                bs=BATCH_SIZE, #pass in batch size\n",
    "#                                num_workers=8,\n",
    "#                                item_tfms=Resize(224), #pass in item_tfms\n",
    "#                                batch_tfms=setup_aug_tfms([Brightness(), Contrast(), Hue(), Saturation()])) #pass in batch_tfms\n",
    "    # It looks if seed of RandomSplitter is set, it reduce the score. So we don't set seed here\n",
    "    #splitter = RandomSplitter(0.2)\n",
    "    # Change RandomSplitter to IndexSplitter\n",
    "    #splitter = IndexSplitter(splitter(range(len(train_df)))[1])\n",
    "    val_idx = train_df_f[train_df_f['is_valid']].index.values\n",
    "    \n",
    "    dls = DataBlock(blocks=(ImageBlock, RegressionBlock),\n",
    "                get_x=ColReader('path'),\n",
    "                get_y=ColReader('norm_score'  ),\n",
    "                splitter=IndexSplitter(val_idx),\n",
    "                item_tfms=[AlbumentationsTransform(get_train_aug(), get_valid_aug())], #pass in item_tfms\n",
    "               )\n",
    "    \n",
    "    paw_dls = dls.dataloaders(train_df_f, \n",
    "                          bs=BATCH_SIZE,\n",
    "                          num_workers=8,\n",
    "                          seed=seed)\n",
    "    \n",
    "    return paw_dls#, splitter\n"
   ]
  },
  {
   "cell_type": "code",
   "execution_count": null,
   "metadata": {
    "colab": {
     "base_uri": "https://localhost:8080/",
     "height": 56
    },
    "execution": {
     "iopub.execute_input": "2022-01-01T09:52:15.052505Z",
     "iopub.status.busy": "2022-01-01T09:52:15.051864Z",
     "iopub.status.idle": "2022-01-01T09:52:15.064769Z",
     "shell.execute_reply": "2022-01-01T09:52:15.063978Z",
     "shell.execute_reply.started": "2022-01-01T09:52:15.052469Z"
    },
    "id": "DQ2KjLs_OuU8",
    "outputId": "e44c8be5-b329-4a81-bccc-0c0a0d743e0d",
    "trusted": true
   },
   "outputs": [],
   "source": [
    "\"\"\"mixup_args = {\n",
    "             'mixup_alpha': 1.,\n",
    "             'cutmix_alpha': 0.,\n",
    "             'cutmix_minmax': None,\n",
    "             'prob': 1.0,\n",
    "             'switch_prob': 0.,\n",
    "             'mode': 'batch',\n",
    "             'label_smoothing': 0,\n",
    "             'num_classes': 1}\"\"\""
   ]
  },
  {
   "cell_type": "code",
   "execution_count": null,
   "metadata": {
    "execution": {
     "iopub.execute_input": "2022-01-01T09:52:15.066839Z",
     "iopub.status.busy": "2022-01-01T09:52:15.066281Z",
     "iopub.status.idle": "2022-01-01T09:52:15.072838Z",
     "shell.execute_reply": "2022-01-01T09:52:15.072129Z",
     "shell.execute_reply.started": "2022-01-01T09:52:15.066803Z"
    },
    "id": "ZCyqTfExOuU9",
    "trusted": true
   },
   "outputs": [],
   "source": [
    "def get_learner(fold_num):\n",
    "    data = get_data(fold_num)\n",
    "    \n",
    "    model = create_model('swin_large_patch4_window7_224', pretrained=True, num_classes=data.c)\n",
    "\n",
    "    learn = Learner(data, model, loss_func=BCEWithLogitsLossFlat(), metrics=AccumMetric(petfinder_rmse), cbs=[MixUp(0.4)]).to_fp16()\n",
    "    \n",
    "    return learn #, splitter"
   ]
  },
  {
   "cell_type": "code",
   "execution_count": null,
   "metadata": {
    "colab": {
     "base_uri": "https://localhost:8080/",
     "height": 1000
    },
    "execution": {
     "iopub.execute_input": "2022-01-01T09:52:15.074597Z",
     "iopub.status.busy": "2022-01-01T09:52:15.074338Z"
    },
    "id": "2ss_cCTOOuU9",
    "outputId": "7930a7ab-40f1-44fc-bfea-ee1a064cc561",
    "trusted": true
   },
   "outputs": [],
   "source": [
    "\"\"\"\n",
    "test_df = pd.read_csv(dataset_path/'test.csv')\n",
    "test_df.head()\n",
    "\n",
    "if len(test_df) != 8:\n",
    "    NEED_TRAIN = True\"\"\"\n",
    "\n",
    "\"\"\"test_df['Pawpularity'] = [1]*len(test_df)\n",
    "test_df['path'] = test_df['Id'].map(lambda x:str(dataset_path/'test'/x)+'.jpg')\n",
    "test_df = test_df.drop(columns=['Id'])\"\"\"\n",
    "train_df['norm_score'] = train_df['Pawpularity']/100\n",
    "\n",
    "import gc\n",
    "\n",
    "from sklearn.metrics import mean_squared_error\n",
    "folds = [0,1,2,3,4]\n",
    "if NEED_TRAIN:\n",
    "    rmse_list = []\n",
    "    #train_df['oof'] = -1\n",
    "\n",
    "    for i in folds:\n",
    "\n",
    "        print(f'Fold {i} results')\n",
    "        train = train_df[train_df['kfold'] != i]\n",
    "\tvalid = \n",
    "\n",
    "        learn = get_learner(fold_num=i)\n",
    "        \n",
    "#         mixup_args = {\n",
    "#             'mixup_alpha': 1.,\n",
    "#             'cutmix_alpha': 0.,\n",
    "#             'cutmix_minmax': None,\n",
    "#             'prob': 1.0,\n",
    "#             'switch_prob': 0.,\n",
    "#             'mode': 'batch',\n",
    "#             'label_smoothing': 0,\n",
    "#             'num_classes': 100}\n",
    "        \n",
    "#         mixup_fn = Mixup(**mixup_args)\n",
    "\n",
    "        learn.fit_one_cycle(5, 2e-5, cbs=[SaveModelCallback(), EarlyStoppingCallback(monitor='petfinder_rmse', comp=np.less, patience=2)]) \n",
    "\n",
    "        learn.recorder.plot_loss()\n",
    "        \n",
    "        #over fitting\n",
    "#         learn.unfreeze()\n",
    "        \n",
    "#         learn.fit_one_cycle(5,lr_max=slice(1e-6,1e-4))\n",
    "\n",
    "        learn = learn.to_fp32()\n",
    "\n",
    "        learn.export(f'model_fold_{i}.pkl')\n",
    "        \n",
    "        #all_preds.append(preds)\n",
    "        \n",
    "        val_idx = train_df[train_df['kfold'] == i].index\n",
    "        val_df = train_df.loc[val_idx]\n",
    "        \n",
    "        \"\"\"dls = DataBlock(blocks=(ImageBlock, RegressionBlock),\n",
    "                get_x=ColReader('path'),\n",
    "                get_y=ColReader('norm_score'),\n",
    "                #splitter=IndexSplitter(val_idx),\n",
    "                item_tfms=Resize(224), #pass in item_tfms\n",
    "                batch_tfms=setup_aug_tfms([Brightness(), Contrast(), Hue(), Saturation(), Flip(), Rotate(max_deg=45)])\n",
    "               )\n",
    "    \n",
    "        paw_dls = dls.dataloaders(train_df, \n",
    "                          bs=BATCH_SIZE,\n",
    "                          num_workers=8,\n",
    "                          seed=seed)\"\"\"\n",
    "        \n",
    "        val_pred, _ = learn.get_preds()\n",
    "        val_pred = val_pred.numpy()\n",
    "        val_pred = val_pred * 100\n",
    "        \n",
    "        train_df.loc[val_idx, 'oof'] = val_pred\n",
    "        print('Pawpularity vs OOF')\n",
    "        print(val_df['Pawpularity'][:5], val_pred[:5])\n",
    "        \n",
    "        real_rmse = mean_squared_error(train_df[train_df['kfold'] == i]['Pawpularity'], \n",
    "                    train_df[train_df['kfold'] == i]['oof'], squared=False)\n",
    "        \n",
    "        fold_rmse = mean_squared_error(train_df[train_df['kfold'] == i]['oof'], train_df[train_df['kfold'] == i]['Pawpularity'], squared=False)\n",
    "        print(f'Fold {i} RMSE: {fold_rmse}')\n",
    "        rmse_list.append(fold_rmse)\n",
    "        \n",
    "        \"\"\"\n",
    "        #val_idx = splitter(range(len(train_df)))[1]\n",
    "        train_df.loc[train_df[train_df['kfold'] == i].index, 'oof'] = oof_preds\n",
    "        real_rmse = mean_squared_error(train_df[train_df['kfold'] == i]['Pawpularity'], \n",
    "                    train_df[train_df['kfold'] == i]['oof'], squared=False)\n",
    "        rmse_list.append(real_rmse)\n",
    "        print(f'real_rmse: {real_rmse:0.5f}')\n",
    "        \n",
    "        val_df = train_df.loc[val_idx]\n",
    "        val_pred, _ = learn.tta(dl=paw_dls.test_dl(val_df), n=5, beta=0)\n",
    "        print(val_df['Pawpularity'][:5], val_pred[:5])\n",
    "        score = mean_squared_error(val_df['Pawpularity'], val_pred*100, squared=False)\n",
    "        print(f'Fold {i} | Score: {score}')\n",
    "        # Save prediction of validation as pred\n",
    "        train_df.loc[val_idx, 'pred'] = val_pred*100\"\"\"\n",
    "\n",
    "        del learn\n",
    "\n",
    "        torch.cuda.empty_cache()\n",
    "\n",
    "        gc.collect()\n",
    "\n",
    "print(f'Average Fold RMSE: {sum(rmse_list) / len(rmse_list)}')"
   ]
  },
  {
   "cell_type": "code",
   "execution_count": null,
   "metadata": {
    "colab": {
     "base_uri": "https://localhost:8080/",
     "height": 297
    },
    "id": "fSot-DBWOuU-",
    "outputId": "d7e6767d-550e-45f1-bfd0-132780fca86b",
    "trusted": true
   },
   "outputs": [],
   "source": [
    "train_df[['oof','Pawpularity']].plot.scatter('oof','Pawpularity')"
   ]
  },
  {
   "cell_type": "code",
   "execution_count": null,
   "metadata": {
    "colab": {
     "base_uri": "https://localhost:8080/",
     "height": 335
    },
    "id": "SLFrbDNhOuU-",
    "outputId": "84a4e6de-6d45-4a0c-858a-73bd49442f76",
    "trusted": true
   },
   "outputs": [],
   "source": [
    "train_df[['oof','Pawpularity']].hist()"
   ]
  },
  {
   "cell_type": "code",
   "execution_count": null,
   "metadata": {
    "id": "jCR-SXWVOuU_",
    "trusted": true
   },
   "outputs": [],
   "source": [
    "train_df.to_csv('train_with_oof.csv')"
   ]
  },
  {
   "cell_type": "code",
   "execution_count": null,
   "metadata": {
    "colab": {
     "base_uri": "https://localhost:8080/"
    },
    "id": "ojr0jVFAPiO5",
    "outputId": "fb3d6583-cad3-47dc-bee0-44c61228c0b5"
   },
   "outputs": [],
   "source": [
    "from google.colab import drive\n",
    "drive.mount('/content/drive')"
   ]
  },
  {
   "cell_type": "code",
   "execution_count": null,
   "metadata": {
    "id": "VyFBBse7P6I0"
   },
   "outputs": [],
   "source": [
    "!cp -r /content/model_fold_0.pkl  /content/model_fold_1.pkl  /content/model_fold_2.pkl  /content/model_fold_3.pkl /content/model_fold_4.pkl /content/drive/MyDrive/models/Swinlarge224Fastai10kf"
   ]
  }
 ],
 "metadata": {
  "accelerator": "GPU",
  "colab": {
   "name": "fork-of-fastai-mixup.ipynb",
   "provenance": []
  },
  "kernelspec": {
   "display_name": "Python 3",
   "language": "python",
   "name": "python3"
  },
  "language_info": {
   "codemirror_mode": {
    "name": "ipython",
    "version": 3
   },
   "file_extension": ".py",
   "mimetype": "text/x-python",
   "name": "python",
   "nbconvert_exporter": "python",
   "pygments_lexer": "ipython3",
   "version": "3.7.10"
  }
 },
 "nbformat": 4,
 "nbformat_minor": 0
}