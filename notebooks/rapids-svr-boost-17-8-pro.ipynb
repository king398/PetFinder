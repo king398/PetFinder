{
 "cells": [
  {
   "cell_type": "markdown",
   "id": "5e6bfd00",
   "metadata": {
    "papermill": {
     "duration": 0.012333,
     "end_time": "2021-10-21T04:00:41.743920",
     "exception": false,
     "start_time": "2021-10-21T04:00:41.731587",
     "status": "completed"
    },
    "tags": []
   },
   "source": [
    "# Boost CV LB +0.2 with RAPIDS SVR Head\n",
    "In this notebook, we demonstrate how to add a RAPIDS SVR second head to an already trained CNN or Image Transformer with first head. This boosts CV LB by +0.2! This trick was used in CommonLit Comp [here][3] to boost our team into Gold Medal!\n",
    "\n",
    "We begin with [Abhishek's][2] public notebook [here][1] which already contains a fully trained Image Transformer model (with NN head). Now in this notebook, we extract the image embeddings (from the trained fold models) and train additional RAPIDS SVR heads for each fold. The original NN head achieves overall CV RSME 18.0 and the new RAPIDS SVR head achieves overall CV RSME 18.0. Both heads are very diverse because the NN head uses Classification (BCE) loss and the SVR head uses Regression loss. During inference, we predict with both heads. When we average both heads' predictions, we achieve overall CV RSME 17.8!\n",
    "\n",
    "The technique illustrated here can be applied to any trained image (or NLP) model for CV LB boost! In the first version of this notebook, we train the SVR heads and save the fold models. Then, in later notebook versions and during Kaggle submission, we load the saved SVR models (from this notebook's version 1 which was made into a Kaggle dataset).\n",
    "\n",
    "[1]: https://www.kaggle.com/abhishek/tez-pawpular-swin-ference\n",
    "[2]: https://www.kaggle.com/abhishek\n",
    "[3]: https://www.kaggle.com/c/commonlitreadabilityprize/discussion/260800"
   ]
  },
  {
   "cell_type": "markdown",
   "id": "95ea7293",
   "metadata": {
    "papermill": {
     "duration": 0.011363,
     "end_time": "2021-10-21T04:00:41.768635",
     "exception": false,
     "start_time": "2021-10-21T04:00:41.757272",
     "status": "completed"
    },
    "tags": []
   },
   "source": [
    "# How to Add RAPIDS SVR Head\n",
    "There are 3 steps to building a double headed model. The first step is to train your Image NN backbone and head. This was done by Abhishek in his notebook [here][1] and achieves CV RSME 18.0. The next step is to train our RAPIDS SVR head with extracted embeddings from frozen Image NN backbone. This is done in version 1 of notebook you are reading [here][2] and achieves CV RSME 18.0. Lastly, we infer with both heads and average the predictions. This is done in the notebook you are reading and achieves CV RSME 17.8!\n",
    "\n",
    "![](https://raw.githubusercontent.com/cdeotte/Kaggle_Images/main/Oct-2021/st1.png)\n",
    "![](https://raw.githubusercontent.com/cdeotte/Kaggle_Images/main/Oct-2021/st2.png)\n",
    "![](https://raw.githubusercontent.com/cdeotte/Kaggle_Images/main/Oct-2021/st3.png)\n",
    "\n",
    "[1]: https://www.kaggle.com/abhishek/tez-pawpular-swin-ference\n",
    "[2]: https://www.kaggle.com/cdeotte/rapids-svr-boost-17-8?scriptVersionId=76282086"
   ]
  },
  {
   "cell_type": "markdown",
   "id": "fc5331a0",
   "metadata": {
    "papermill": {
     "duration": 0.011017,
     "end_time": "2021-10-21T04:00:41.790706",
     "exception": false,
     "start_time": "2021-10-21T04:00:41.779689",
     "status": "completed"
    },
    "tags": []
   },
   "source": [
    "# Load Libraries"
   ]
  },
  {
   "cell_type": "code",
   "execution_count": 1,
   "id": "f825c9d4",
   "metadata": {
    "_kg_hide-input": true,
    "execution": {
     "iopub.execute_input": "2021-10-21T04:00:41.894950Z",
     "iopub.status.busy": "2021-10-21T04:00:41.892897Z",
     "iopub.status.idle": "2021-10-21T04:00:50.063969Z",
     "shell.execute_reply": "2021-10-21T04:00:50.064516Z",
     "shell.execute_reply.started": "2021-10-21T03:50:35.248631Z"
    },
    "papermill": {
     "duration": 8.262966,
     "end_time": "2021-10-21T04:00:50.064789",
     "exception": false,
     "start_time": "2021-10-21T04:00:41.801823",
     "status": "completed"
    },
    "tags": []
   },
   "outputs": [],
   "source": [
    "# based on the post here: https://www.kaggle.com/c/petfinder-pawpularity-score/discussion/275094\n",
    "\n",
    "import sys\n",
    "\n",
    "sys.path.append(\"../input/tez-lib/\")\n",
    "sys.path.append(\"../input/timmmaster/\")\n",
    "\n",
    "import tez\n",
    "import albumentations\n",
    "import pandas as pd\n",
    "import cv2\n",
    "import numpy as np\n",
    "import timm\n",
    "import torch.nn as nn\n",
    "from sklearn import metrics\n",
    "import torch\n",
    "from tez.callbacks import EarlyStopping\n",
    "from tqdm import tqdm\n",
    "import math\n",
    "# Asthetics\n",
    "import warnings\n",
    "import sklearn.exceptions\n",
    "\n",
    "warnings.filterwarnings('ignore', category=DeprecationWarning)\n",
    "warnings.filterwarnings('ignore', category=FutureWarning)\n",
    "warnings.filterwarnings(\"ignore\", category=sklearn.exceptions.UndefinedMetricWarning)\n",
    "\n",
    "# General\n",
    "from tqdm.auto import tqdm\n",
    "import pandas as pd\n",
    "import numpy as np\n",
    "import os\n",
    "import glob\n",
    "import random\n",
    "import cv2\n",
    "\n",
    "pd.set_option('display.max_columns', None)\n",
    "\n",
    "# Image Aug\n",
    "import albumentations\n",
    "from albumentations.pytorch.transforms import ToTensorV2\n",
    "\n",
    "# Deep Learning\n",
    "import torch\n",
    "import torchvision\n",
    "import timm\n",
    "import torch.nn as nn\n",
    "import torch.nn.functional as F\n",
    "from torch.utils.data import Dataset, DataLoader\n",
    "\n",
    "# Random Seed Initialize\n",
    "RANDOM_SEED = 42\n",
    "\n",
    "\n",
    "def seed_everything(seed=RANDOM_SEED):\n",
    "\tos.environ['PYTHONHASHSEED'] = str(seed)\n",
    "\tnp.random.seed(seed)\n",
    "\trandom.seed(seed)\n",
    "\ttorch.manual_seed(seed)\n",
    "\ttorch.cuda.manual_seed(seed)\n",
    "\ttorch.backends.cudnn.deterministic = True\n",
    "\ttorch.backends.cudnn.benchmark = True\n",
    "\n",
    "\n",
    "seed_everything()\n",
    "\n",
    "# Device Optimization\n",
    "if torch.cuda.is_available():\n",
    "\tdevice = torch.device('cuda')\n",
    "else:\n",
    "\tdevice = torch.device('cpu')\n",
    "\n",
    "print(f'Using device: {device}')\n",
    "\n",
    "\n",
    "class args:\n",
    "\tbatch_size = 16\n",
    "\timage_size = 384\n",
    "\n",
    "\n",
    "def sigmoid(x):\n",
    "\treturn 1 / (1 + math.exp(-x))"
   ]
  },
  {
   "cell_type": "markdown",
   "id": "31470c75",
   "metadata": {
    "papermill": {
     "duration": 0.011104,
     "end_time": "2021-10-21T04:00:50.087347",
     "exception": false,
     "start_time": "2021-10-21T04:00:50.076243",
     "status": "completed"
    },
    "tags": []
   },
   "source": [
    "# Define Swim Model and Swim Dataset"
   ]
  },
  {
   "cell_type": "code",
   "execution_count": 1,
   "id": "1255a1f6",
   "metadata": {
    "_cell_guid": "b1076dfc-b9ad-4769-8c92-a6c4dae69d19",
    "_kg_hide-input": true,
    "_uuid": "8f2839f25d086af736a60e9eeb907d3b93b6e0e5",
    "execution": {
     "iopub.execute_input": "2021-10-21T04:00:50.128202Z",
     "iopub.status.busy": "2021-10-21T04:00:50.126513Z",
     "iopub.status.idle": "2021-10-21T04:00:50.128765Z",
     "shell.execute_reply": "2021-10-21T04:00:50.129198Z",
     "shell.execute_reply.started": "2021-10-21T03:50:43.736428Z"
    },
    "papermill": {
     "duration": 0.030798,
     "end_time": "2021-10-21T04:00:50.129329",
     "exception": false,
     "start_time": "2021-10-21T04:00:50.098531",
     "status": "completed"
    },
    "tags": []
   },
   "outputs": [
    {
     "ename": "NameError",
     "evalue": "name 'os' is not defined",
     "output_type": "error",
     "traceback": [
      "\u001B[1;31m---------------------------------------------------------------------------\u001B[0m",
      "\u001B[1;31mNameError\u001B[0m                                 Traceback (most recent call last)",
      "\u001B[1;32m<ipython-input-1-9a41ad306ed6>\u001B[0m in \u001B[0;36m<module>\u001B[1;34m\u001B[0m\n\u001B[0;32m      3\u001B[0m \u001B[0mmodels_dir\u001B[0m \u001B[1;33m=\u001B[0m \u001B[1;34m'../input/swin-transformenrs-pet-net'\u001B[0m\u001B[1;33m\u001B[0m\u001B[1;33m\u001B[0m\u001B[0m\n\u001B[0;32m      4\u001B[0m \u001B[1;33m\u001B[0m\u001B[0m\n\u001B[1;32m----> 5\u001B[1;33m \u001B[0mtest_file_path\u001B[0m \u001B[1;33m=\u001B[0m \u001B[0mos\u001B[0m\u001B[1;33m.\u001B[0m\u001B[0mpath\u001B[0m\u001B[1;33m.\u001B[0m\u001B[0mjoin\u001B[0m\u001B[1;33m(\u001B[0m\u001B[0mcsv_dir\u001B[0m\u001B[1;33m,\u001B[0m \u001B[1;34m'test.csv'\u001B[0m\u001B[1;33m)\u001B[0m\u001B[1;33m\u001B[0m\u001B[1;33m\u001B[0m\u001B[0m\n\u001B[0m\u001B[0;32m      6\u001B[0m \u001B[0msample_sub_file_path\u001B[0m \u001B[1;33m=\u001B[0m \u001B[0mos\u001B[0m\u001B[1;33m.\u001B[0m\u001B[0mpath\u001B[0m\u001B[1;33m.\u001B[0m\u001B[0mjoin\u001B[0m\u001B[1;33m(\u001B[0m\u001B[0mcsv_dir\u001B[0m\u001B[1;33m,\u001B[0m \u001B[1;34m'sample_submission.csv'\u001B[0m\u001B[1;33m)\u001B[0m\u001B[1;33m\u001B[0m\u001B[1;33m\u001B[0m\u001B[0m\n\u001B[0;32m      7\u001B[0m \u001B[0mprint\u001B[0m\u001B[1;33m(\u001B[0m\u001B[1;34mf'Test file: {test_file_path}'\u001B[0m\u001B[1;33m)\u001B[0m\u001B[1;33m\u001B[0m\u001B[1;33m\u001B[0m\u001B[0m\n",
      "\u001B[1;31mNameError\u001B[0m: name 'os' is not defined"
     ]
    }
   ],
   "source": [
    "csv_dir = '../input/petfinder-pawpularity-score'\n",
    "test_dir = '../input/petfinder-pawpularity-score/test'\n",
    "models_dir = '../input/swin-transformenrs-pet-net'\n",
    "\n",
    "test_file_path = os.path.join(csv_dir, 'test.csv')\n",
    "sample_sub_file_path = os.path.join(csv_dir, 'sample_submission.csv')\n",
    "print(f'Test file: {test_file_path}')\n",
    "print(f'Models path: {models_dir}')\n",
    "test_df = pd.read_csv(test_file_path)\n",
    "sample_df = pd.read_csv(sample_sub_file_path)\n",
    "\n",
    "\n",
    "def return_filpath(name, folder):\n",
    "\tpath = os.path.join(folder, f'{name}.jpg')\n",
    "\treturn path\n",
    "\n",
    "\n",
    "test_df['image_path'] = test_df['Id'].apply(lambda x: return_filpath(x, folder=test_dir))\n",
    "\n",
    "\n",
    "class CuteDataset(Dataset):\n",
    "\tdef __init__(self, images_filepaths, dense_features, targets, transform=None):\n",
    "\t\tself.images_filepaths = images_filepaths\n",
    "\t\tself.dense_features = dense_features\n",
    "\t\tself.targets = targets\n",
    "\t\tself.transform = transform\n",
    "\n",
    "\tdef __len__(self):\n",
    "\t\treturn len(self.images_filepaths)\n",
    "\n",
    "\tdef __getitem__(self, idx):\n",
    "\t\timage_filepath = self.images_filepaths[idx]\n",
    "\t\timage = cv2.imread(image_filepath)\n",
    "\t\timage = cv2.cvtColor(image, cv2.COLOR_BGR2RGB)\n",
    "\n",
    "\t\tif self.transform is not None:\n",
    "\t\t\timage = self.transform(image=image)['image']\n",
    "\n",
    "\t\tdense = self.dense_features[idx, :]\n",
    "\t\tlabel = torch.tensor(self.targets[idx]).float()\n",
    "\t\treturn image, dense, label\n",
    "\n",
    "def get_test_transforms(DIM = params['im_size']):\n",
    "    return albumentations.Compose(\n",
    "        [\n",
    "          albumentations.Resize(DIM,DIM),\n",
    "          albumentations.Normalize(\n",
    "              mean=[0.485, 0.456, 0.406],\n",
    "              std=[0.229, 0.224, 0.225],\n",
    "          ),\n",
    "          ToTensorV2(p=1.0)\n",
    "        ]\n",
    "    )\n",
    "class PetNet(nn.Module):\n",
    "\tdef __init__(self, model_name=params['model'], out_features=params['out_features'],\n",
    "\t             inp_channels=params['inp_channels'],\n",
    "\t             pretrained=params['pretrained'], num_dense=len(params['dense_features'])):\n",
    "\t\tsuper().__init__()\n",
    "\t\tself.model = timm.create_model(model_name, pretrained=pretrained, in_chans=inp_channels)\n",
    "\t\tn_features = self.model.head.in_features\n",
    "\t\tself.model.head = nn.Linear(n_features, 128)\n",
    "\t\tself.fc = nn.Sequential(\n",
    "\t\t\tnn.Linear(128 + num_dense, 64),\n",
    "\t\t\tnn.ReLU(),\n",
    "\t\t\tnn.Linear(64, out_features)\n",
    "\t\t)\n",
    "\t\tself.dropout = nn.Dropout(0.2)\n",
    "\n",
    "\tdef forward(self, image, dense):\n",
    "\t\tembeddings = self.model(image)\n",
    "\t\tx = self.dropout(embeddings)\n",
    "\t\tx = torch.cat([x, dense], dim=1)\n",
    "\t\toutput = self.fc(x)\n",
    "\t\treturn output\n",
    "\n"
   ]
  },
  {
   "cell_type": "markdown",
   "id": "f436bf76",
   "metadata": {
    "papermill": {
     "duration": 0.010919,
     "end_time": "2021-10-21T04:00:50.151327",
     "exception": false,
     "start_time": "2021-10-21T04:00:50.140408",
     "status": "completed"
    },
    "tags": []
   },
   "source": [
    "# Import RAPIDS"
   ]
  },
  {
   "cell_type": "code",
   "execution_count": 3,
   "id": "19081a06",
   "metadata": {
    "execution": {
     "iopub.execute_input": "2021-10-21T04:00:50.177806Z",
     "iopub.status.busy": "2021-10-21T04:00:50.177170Z",
     "iopub.status.idle": "2021-10-21T04:00:53.713011Z",
     "shell.execute_reply": "2021-10-21T04:00:53.713536Z",
     "shell.execute_reply.started": "2021-10-21T03:50:43.756236Z"
    },
    "papermill": {
     "duration": 3.551366,
     "end_time": "2021-10-21T04:00:53.713692",
     "exception": false,
     "start_time": "2021-10-21T04:00:50.162326",
     "status": "completed"
    },
    "tags": []
   },
   "outputs": [
    {
     "name": "stdout",
     "output_type": "stream",
     "text": [
      "RAPIDS version 21.08.01 \n",
      "\n",
      "Train shape: (9912, 15)\n"
     ]
    },
    {
     "data": {
      "text/html": [
       "<div>\n",
       "<style scoped>\n",
       "    .dataframe tbody tr th:only-of-type {\n",
       "        vertical-align: middle;\n",
       "    }\n",
       "\n",
       "    .dataframe tbody tr th {\n",
       "        vertical-align: top;\n",
       "    }\n",
       "\n",
       "    .dataframe thead th {\n",
       "        text-align: right;\n",
       "    }\n",
       "</style>\n",
       "<table border=\"1\" class=\"dataframe\">\n",
       "  <thead>\n",
       "    <tr style=\"text-align: right;\">\n",
       "      <th></th>\n",
       "      <th>Id</th>\n",
       "      <th>Subject Focus</th>\n",
       "      <th>Eyes</th>\n",
       "      <th>Face</th>\n",
       "      <th>Near</th>\n",
       "      <th>Action</th>\n",
       "      <th>Accessory</th>\n",
       "      <th>Group</th>\n",
       "      <th>Collage</th>\n",
       "      <th>Human</th>\n",
       "      <th>Occlusion</th>\n",
       "      <th>Info</th>\n",
       "      <th>Blur</th>\n",
       "      <th>Pawpularity</th>\n",
       "      <th>kfold</th>\n",
       "    </tr>\n",
       "  </thead>\n",
       "  <tbody>\n",
       "    <tr>\n",
       "      <th>0</th>\n",
       "      <td>0007de18844b0dbbb5e1f607da0606e0</td>\n",
       "      <td>0</td>\n",
       "      <td>1</td>\n",
       "      <td>1</td>\n",
       "      <td>1</td>\n",
       "      <td>0</td>\n",
       "      <td>0</td>\n",
       "      <td>1</td>\n",
       "      <td>0</td>\n",
       "      <td>0</td>\n",
       "      <td>0</td>\n",
       "      <td>0</td>\n",
       "      <td>0</td>\n",
       "      <td>63</td>\n",
       "      <td>1</td>\n",
       "    </tr>\n",
       "    <tr>\n",
       "      <th>1</th>\n",
       "      <td>0009c66b9439883ba2750fb825e1d7db</td>\n",
       "      <td>0</td>\n",
       "      <td>1</td>\n",
       "      <td>1</td>\n",
       "      <td>0</td>\n",
       "      <td>0</td>\n",
       "      <td>0</td>\n",
       "      <td>0</td>\n",
       "      <td>0</td>\n",
       "      <td>0</td>\n",
       "      <td>0</td>\n",
       "      <td>0</td>\n",
       "      <td>0</td>\n",
       "      <td>42</td>\n",
       "      <td>5</td>\n",
       "    </tr>\n",
       "    <tr>\n",
       "      <th>2</th>\n",
       "      <td>0013fd999caf9a3efe1352ca1b0d937e</td>\n",
       "      <td>0</td>\n",
       "      <td>1</td>\n",
       "      <td>1</td>\n",
       "      <td>1</td>\n",
       "      <td>0</td>\n",
       "      <td>0</td>\n",
       "      <td>0</td>\n",
       "      <td>0</td>\n",
       "      <td>1</td>\n",
       "      <td>1</td>\n",
       "      <td>0</td>\n",
       "      <td>0</td>\n",
       "      <td>28</td>\n",
       "      <td>1</td>\n",
       "    </tr>\n",
       "    <tr>\n",
       "      <th>3</th>\n",
       "      <td>0018df346ac9c1d8413cfcc888ca8246</td>\n",
       "      <td>0</td>\n",
       "      <td>1</td>\n",
       "      <td>1</td>\n",
       "      <td>1</td>\n",
       "      <td>0</td>\n",
       "      <td>0</td>\n",
       "      <td>0</td>\n",
       "      <td>0</td>\n",
       "      <td>0</td>\n",
       "      <td>0</td>\n",
       "      <td>0</td>\n",
       "      <td>0</td>\n",
       "      <td>15</td>\n",
       "      <td>6</td>\n",
       "    </tr>\n",
       "    <tr>\n",
       "      <th>4</th>\n",
       "      <td>001dc955e10590d3ca4673f034feeef2</td>\n",
       "      <td>0</td>\n",
       "      <td>0</td>\n",
       "      <td>0</td>\n",
       "      <td>1</td>\n",
       "      <td>0</td>\n",
       "      <td>0</td>\n",
       "      <td>1</td>\n",
       "      <td>0</td>\n",
       "      <td>0</td>\n",
       "      <td>0</td>\n",
       "      <td>0</td>\n",
       "      <td>0</td>\n",
       "      <td>72</td>\n",
       "      <td>8</td>\n",
       "    </tr>\n",
       "  </tbody>\n",
       "</table>\n",
       "</div>"
      ],
      "text/plain": [
       "                                 Id  Subject Focus  Eyes  Face  Near  Action  \\\n",
       "0  0007de18844b0dbbb5e1f607da0606e0              0     1     1     1       0   \n",
       "1  0009c66b9439883ba2750fb825e1d7db              0     1     1     0       0   \n",
       "2  0013fd999caf9a3efe1352ca1b0d937e              0     1     1     1       0   \n",
       "3  0018df346ac9c1d8413cfcc888ca8246              0     1     1     1       0   \n",
       "4  001dc955e10590d3ca4673f034feeef2              0     0     0     1       0   \n",
       "\n",
       "   Accessory  Group  Collage  Human  Occlusion  Info  Blur  Pawpularity  kfold  \n",
       "0          0      1        0      0          0     0     0           63      1  \n",
       "1          0      0        0      0          0     0     0           42      5  \n",
       "2          0      0        0      1          1     0     0           28      1  \n",
       "3          0      0        0      0          0     0     0           15      6  \n",
       "4          0      1        0      0          0     0     0           72      8  "
      ]
     },
     "execution_count": 3,
     "metadata": {},
     "output_type": "execute_result"
    }
   ],
   "source": [
    "import cuml, pickle\n",
    "from cuml.svm import SVR\n",
    "\n",
    "print('RAPIDS version', cuml.__version__, '\\n')\n",
    "\n",
    "LOAD_SVR_FROM_PATH = '../input/svr-models-10-folds/'\n",
    "\n",
    "df = pd.read_csv('../input/same-old-creating-folds/train_10folds.csv')\n",
    "print('Train shape:', df.shape)\n",
    "df.head()"
   ]
  },
  {
   "cell_type": "markdown",
   "id": "832ab539",
   "metadata": {
    "papermill": {
     "duration": 0.011655,
     "end_time": "2021-10-21T04:00:53.738873",
     "exception": false,
     "start_time": "2021-10-21T04:00:53.727218",
     "status": "completed"
    },
    "tags": []
   },
   "source": [
    "# Infer Test and OOF\n",
    "In version 1 of this notebook, we extract train embeddings and train RAPIDS SVR heads. (Click version 1 to see this). In later versions and during Kaggle submit, we load these saved RAPIDS SVR fold models and just infer data (without training anything)."
   ]
  },
  {
   "cell_type": "code",
   "execution_count": 4,
   "id": "537eeb18",
   "metadata": {
    "execution": {
     "iopub.execute_input": "2021-10-21T04:00:53.788529Z",
     "iopub.status.busy": "2021-10-21T04:00:53.787912Z",
     "iopub.status.idle": "2021-10-21T04:10:19.630854Z",
     "shell.execute_reply": "2021-10-21T04:10:19.627847Z",
     "shell.execute_reply.started": "2021-10-21T03:50:47.243934Z"
    },
    "papermill": {
     "duration": 565.880277,
     "end_time": "2021-10-21T04:10:19.630994",
     "exception": false,
     "start_time": "2021-10-21T04:00:53.750717",
     "status": "completed"
    },
    "tags": []
   },
   "outputs": [
    {
     "name": "stdout",
     "output_type": "stream",
     "text": [
      "#########################\n",
      "### FOLD 1\n",
      "#########################\n",
      "Loading SVR... ../input/svr-models-10-folds/SVR_fold_0.pkl\n",
      "Predicting test...\n"
     ]
    },
    {
     "name": "stderr",
     "output_type": "stream",
     "text": [
      "100%|██████████| 1/1 [00:00<00:00,  1.26it/s, stage=test]\n"
     ]
    },
    {
     "name": "stdout",
     "output_type": "stream",
     "text": [
      "Predicting oof...\n"
     ]
    },
    {
     "name": "stderr",
     "output_type": "stream",
     "text": [
      "100%|██████████| 31/31 [00:44<00:00,  1.43s/it, stage=test]\n"
     ]
    },
    {
     "name": "stdout",
     "output_type": "stream",
     "text": [
      "NN RSME = 17.97249498279356 \n",
      "\n",
      "SVR RSME = 18.40609834338012 \n",
      "\n",
      "Ensemble RSME = 17.968745575801634 \n",
      "\n",
      "#########################\n",
      "### FOLD 2\n",
      "#########################\n",
      "Loading SVR... ../input/svr-models-10-folds/SVR_fold_1.pkl\n",
      "Predicting test...\n"
     ]
    },
    {
     "name": "stderr",
     "output_type": "stream",
     "text": [
      "100%|██████████| 1/1 [00:00<00:00,  1.63it/s, stage=test]\n"
     ]
    },
    {
     "name": "stdout",
     "output_type": "stream",
     "text": [
      "Predicting oof...\n"
     ]
    },
    {
     "name": "stderr",
     "output_type": "stream",
     "text": [
      "100%|██████████| 31/31 [00:44<00:00,  1.42s/it, stage=test]\n"
     ]
    },
    {
     "name": "stdout",
     "output_type": "stream",
     "text": [
      "NN RSME = 18.237516564542965 \n",
      "\n",
      "SVR RSME = 18.154424033265304 \n",
      "\n",
      "Ensemble RSME = 18.024874255090868 \n",
      "\n",
      "#########################\n",
      "### FOLD 3\n",
      "#########################\n",
      "Loading SVR... ../input/svr-models-10-folds/SVR_fold_2.pkl\n",
      "Predicting test...\n"
     ]
    },
    {
     "name": "stderr",
     "output_type": "stream",
     "text": [
      "100%|██████████| 1/1 [00:00<00:00,  1.59it/s, stage=test]\n"
     ]
    },
    {
     "name": "stdout",
     "output_type": "stream",
     "text": [
      "Predicting oof...\n"
     ]
    },
    {
     "name": "stderr",
     "output_type": "stream",
     "text": [
      "100%|██████████| 31/31 [00:43<00:00,  1.42s/it, stage=test]\n"
     ]
    },
    {
     "name": "stdout",
     "output_type": "stream",
     "text": [
      "NN RSME = 18.135574783984232 \n",
      "\n",
      "SVR RSME = 18.590583828229306 \n",
      "\n",
      "Ensemble RSME = 18.220572472149556 \n",
      "\n",
      "#########################\n",
      "### FOLD 4\n",
      "#########################\n",
      "Loading SVR... ../input/svr-models-10-folds/SVR_fold_3.pkl\n",
      "Predicting test...\n"
     ]
    },
    {
     "name": "stderr",
     "output_type": "stream",
     "text": [
      "100%|██████████| 1/1 [00:00<00:00,  1.55it/s, stage=test]\n"
     ]
    },
    {
     "name": "stdout",
     "output_type": "stream",
     "text": [
      "Predicting oof...\n"
     ]
    },
    {
     "name": "stderr",
     "output_type": "stream",
     "text": [
      "100%|██████████| 31/31 [00:43<00:00,  1.42s/it, stage=test]\n"
     ]
    },
    {
     "name": "stdout",
     "output_type": "stream",
     "text": [
      "NN RSME = 18.282065537302437 \n",
      "\n",
      "SVR RSME = 18.716292483881585 \n",
      "\n",
      "Ensemble RSME = 18.30596892630058 \n",
      "\n",
      "#########################\n",
      "### FOLD 5\n",
      "#########################\n",
      "Loading SVR... ../input/svr-models-10-folds/SVR_fold_4.pkl\n",
      "Predicting test...\n"
     ]
    },
    {
     "name": "stderr",
     "output_type": "stream",
     "text": [
      "100%|██████████| 1/1 [00:00<00:00,  1.57it/s, stage=test]\n"
     ]
    },
    {
     "name": "stdout",
     "output_type": "stream",
     "text": [
      "Predicting oof...\n"
     ]
    },
    {
     "name": "stderr",
     "output_type": "stream",
     "text": [
      "100%|██████████| 31/31 [00:44<00:00,  1.42s/it, stage=test]\n"
     ]
    },
    {
     "name": "stdout",
     "output_type": "stream",
     "text": [
      "NN RSME = 18.511256950972676 \n",
      "\n",
      "SVR RSME = 18.71897535397874 \n",
      "\n",
      "Ensemble RSME = 18.366604806188537 \n",
      "\n",
      "#########################\n",
      "### FOLD 6\n",
      "#########################\n",
      "Loading SVR... ../input/svr-models-10-folds/SVR_fold_5.pkl\n",
      "Predicting test...\n"
     ]
    },
    {
     "name": "stderr",
     "output_type": "stream",
     "text": [
      "100%|██████████| 1/1 [00:00<00:00,  1.45it/s, stage=test]\n"
     ]
    },
    {
     "name": "stdout",
     "output_type": "stream",
     "text": [
      "Predicting oof...\n"
     ]
    },
    {
     "name": "stderr",
     "output_type": "stream",
     "text": [
      "100%|██████████| 31/31 [00:44<00:00,  1.43s/it, stage=test]\n"
     ]
    },
    {
     "name": "stdout",
     "output_type": "stream",
     "text": [
      "NN RSME = 17.671787422815502 \n",
      "\n",
      "SVR RSME = 17.884242919038655 \n",
      "\n",
      "Ensemble RSME = 17.67141776634974 \n",
      "\n",
      "#########################\n",
      "### FOLD 7\n",
      "#########################\n",
      "Loading SVR... ../input/svr-models-10-folds/SVR_fold_6.pkl\n",
      "Predicting test...\n"
     ]
    },
    {
     "name": "stderr",
     "output_type": "stream",
     "text": [
      "100%|██████████| 1/1 [00:00<00:00,  1.51it/s, stage=test]\n"
     ]
    },
    {
     "name": "stdout",
     "output_type": "stream",
     "text": [
      "Predicting oof...\n"
     ]
    },
    {
     "name": "stderr",
     "output_type": "stream",
     "text": [
      "100%|██████████| 31/31 [00:44<00:00,  1.42s/it, stage=test]\n"
     ]
    },
    {
     "name": "stdout",
     "output_type": "stream",
     "text": [
      "NN RSME = 18.22703568076969 \n",
      "\n",
      "SVR RSME = 17.67076317069654 \n",
      "\n",
      "Ensemble RSME = 17.545838829310828 \n",
      "\n",
      "#########################\n",
      "### FOLD 8\n",
      "#########################\n",
      "Loading SVR... ../input/svr-models-10-folds/SVR_fold_7.pkl\n",
      "Predicting test...\n"
     ]
    },
    {
     "name": "stderr",
     "output_type": "stream",
     "text": [
      "100%|██████████| 1/1 [00:00<00:00,  1.47it/s, stage=test]\n"
     ]
    },
    {
     "name": "stdout",
     "output_type": "stream",
     "text": [
      "Predicting oof...\n"
     ]
    },
    {
     "name": "stderr",
     "output_type": "stream",
     "text": [
      "100%|██████████| 31/31 [00:43<00:00,  1.42s/it, stage=test]\n"
     ]
    },
    {
     "name": "stdout",
     "output_type": "stream",
     "text": [
      "NN RSME = 17.492799323859824 \n",
      "\n",
      "SVR RSME = 17.423998301280427 \n",
      "\n",
      "Ensemble RSME = 17.237742032404697 \n",
      "\n",
      "#########################\n",
      "### FOLD 9\n",
      "#########################\n",
      "Loading SVR... ../input/svr-models-10-folds/SVR_fold_8.pkl\n",
      "Predicting test...\n"
     ]
    },
    {
     "name": "stderr",
     "output_type": "stream",
     "text": [
      "100%|██████████| 1/1 [00:00<00:00,  1.60it/s, stage=test]\n"
     ]
    },
    {
     "name": "stdout",
     "output_type": "stream",
     "text": [
      "Predicting oof...\n"
     ]
    },
    {
     "name": "stderr",
     "output_type": "stream",
     "text": [
      "100%|██████████| 31/31 [00:43<00:00,  1.42s/it, stage=test]\n"
     ]
    },
    {
     "name": "stdout",
     "output_type": "stream",
     "text": [
      "NN RSME = 18.221953403634856 \n",
      "\n",
      "SVR RSME = 17.98396810662354 \n",
      "\n",
      "Ensemble RSME = 17.796442925973505 \n",
      "\n",
      "#########################\n",
      "### FOLD 10\n",
      "#########################\n",
      "Loading SVR... ../input/svr-models-10-folds/SVR_fold_9.pkl\n",
      "Predicting test...\n"
     ]
    },
    {
     "name": "stderr",
     "output_type": "stream",
     "text": [
      "100%|██████████| 1/1 [00:00<00:00,  1.59it/s, stage=test]\n"
     ]
    },
    {
     "name": "stdout",
     "output_type": "stream",
     "text": [
      "Predicting oof...\n"
     ]
    },
    {
     "name": "stderr",
     "output_type": "stream",
     "text": [
      "100%|██████████| 31/31 [00:44<00:00,  1.42s/it, stage=test]"
     ]
    },
    {
     "name": "stdout",
     "output_type": "stream",
     "text": [
      "NN RSME = 18.16202634654475 \n",
      "\n",
      "SVR RSME = 17.440837375565522 \n",
      "\n",
      "Ensemble RSME = 17.53770280684388 \n",
      "\n"
     ]
    },
    {
     "name": "stderr",
     "output_type": "stream",
     "text": [
      "\n"
     ]
    }
   ],
   "source": [
    "super_final_predictions = []\n",
    "super_final_predictions2 = []\n",
    "super_final_oof_predictions = []\n",
    "super_final_oof_predictions2 = []\n",
    "super_final_oof_true = []\n",
    "\n",
    "for fold_ in range(10):\n",
    "\tprint('#' * 25)\n",
    "\tprint('### FOLD', fold_ + 1)\n",
    "\tprint('#' * 25)\n",
    "\n",
    "\tmodel = PawpularModel(model_name=\"swin_large_patch4_window12_384\")\n",
    "\tmodel.load(f\"../input/paw-models/model_f{fold_}.bin\", device=\"cuda\", weights_only=True)\n",
    "\n",
    "\tdf_test = pd.read_csv(\"../input/petfinder-pawpularity-score/test.csv\")\n",
    "\ttest_img_paths = [f\"../input/petfinder-pawpularity-score/test/{x}.jpg\" for x in df_test[\"Id\"].values]\n",
    "\n",
    "\tdf_valid = df[df.kfold == fold_].reset_index(drop=True)  #.iloc[:160]\n",
    "\tvalid_img_paths = [f\"../input/petfinder-pawpularity-score/train/{x}.jpg\" for x in df_valid[\"Id\"].values]\n",
    "\n",
    "\tdense_features = [\n",
    "\t\t'Subject Focus', 'Eyes', 'Face', 'Near', 'Action', 'Accessory',\n",
    "\t\t'Group', 'Collage', 'Human', 'Occlusion', 'Info', 'Blur'\n",
    "\t]\n",
    "\n",
    "\tname = f\"SVR_fold_{fold_}.pkl\"\n",
    "\tif LOAD_SVR_FROM_PATH is None:\n",
    "\t\t##################\n",
    "\t\t# EXTRACT TRAIN EMBEDDINGS\n",
    "\n",
    "\t\tdf_train = df[df.kfold != fold_].reset_index(drop=True)  #.iloc[:320]\n",
    "\t\ttrain_img_paths = [f\"../input/petfinder-pawpularity-score/train/{x}.jpg\" for x in df_train[\"Id\"].values]\n",
    "\n",
    "\t\ttrain_dataset = PawpularDataset(\n",
    "\t\t\timage_paths=train_img_paths,\n",
    "\t\t\tdense_features=df_train[dense_features].values,\n",
    "\t\t\ttargets=df_train['Pawpularity'].values / 100.0,\n",
    "\t\t\taugmentations=test_aug,\n",
    "\t\t)\n",
    "\t\tprint('Extracting train embedding...')\n",
    "\t\ttrain_predictions = model.predict(train_dataset, batch_size=2 * args.batch_size, n_jobs=-1)\n",
    "\n",
    "\t\tembed = np.array([]).reshape((0, 128 + 12))\n",
    "\t\tfor preds in train_predictions:\n",
    "\t\t\tembed = np.concatenate([embed, preds[:, 1:]], axis=0)\n",
    "\n",
    "\t\t##################\n",
    "\t\t# FIT RAPIDS SVR\n",
    "\t\tprint('Fitting SVR...')\n",
    "\t\tclf = SVR(C=20.0)\n",
    "\t\tclf.fit(embed.astype('float32'), df_train.Pawpularity.values.astype('int32'))\n",
    "\n",
    "\t\t##################\n",
    "\t\t# SAVE RAPIDS SVR\n",
    "\t\tpickle.dump(clf, open(name, \"wb\"))\n",
    "\n",
    "\telse:\n",
    "\t\t##################\n",
    "\t\t# LOAD RAPIDS SVR\n",
    "\t\tprint('Loading SVR...', LOAD_SVR_FROM_PATH + name)\n",
    "\t\tclf = pickle.load(open(LOAD_SVR_FROM_PATH + name, \"rb\"))\n",
    "\n",
    "\t##################\n",
    "\t# TEST PREDICTIONS\n",
    "\ttest_dataset = PawpularDataset(\n",
    "\t\timage_paths=test_img_paths,\n",
    "\t\tdense_features=df_test[dense_features].values,\n",
    "\t\ttargets=np.ones(len(test_img_paths)),\n",
    "\t\taugmentations=test_aug,\n",
    "\t)\n",
    "\tprint('Predicting test...')\n",
    "\ttest_predictions = model.predict(test_dataset, batch_size=2 * args.batch_size, n_jobs=-1)\n",
    "\n",
    "\tfinal_test_predictions = []\n",
    "\tembed = np.array([]).reshape((0, 128 + 12))\n",
    "\tfor preds in test_predictions:  #tqdm\n",
    "\t\tfinal_test_predictions.extend(preds[:, :1].ravel().tolist())\n",
    "\t\tembed = np.concatenate([embed, preds[:, 1:]], axis=0)\n",
    "\n",
    "\tfinal_test_predictions = [sigmoid(x) * 100 for x in final_test_predictions]\n",
    "\tfinal_test_predictions2 = clf.predict(embed)\n",
    "\tsuper_final_predictions.append(final_test_predictions)\n",
    "\tsuper_final_predictions2.append(final_test_predictions2)\n",
    "\t##################\n",
    "\n",
    "\t##################\n",
    "\t# OOF PREDICTIONS\n",
    "\tvalid_dataset = PawpularDataset(\n",
    "\t\timage_paths=valid_img_paths,\n",
    "\t\tdense_features=df_valid[dense_features].values,\n",
    "\t\ttargets=df_valid['Pawpularity'].values / 100.0,\n",
    "\t\taugmentations=test_aug,\n",
    "\t)\n",
    "\tprint('Predicting oof...')\n",
    "\tvalid_predictions = model.predict(valid_dataset, batch_size=2 * args.batch_size, n_jobs=-1)\n",
    "\n",
    "\tfinal_oof_predictions = []\n",
    "\tembed = np.array([]).reshape((0, 128 + 12))\n",
    "\tfor preds in valid_predictions:\n",
    "\t\tfinal_oof_predictions.extend(preds[:, :1].ravel().tolist())\n",
    "\t\tembed = np.concatenate([embed, preds[:, 1:]], axis=0)\n",
    "\n",
    "\tfinal_oof_predictions = [sigmoid(x) * 100 for x in final_oof_predictions]\n",
    "\tfinal_oof_predictions2 = clf.predict(embed)\n",
    "\tsuper_final_oof_predictions.append(final_oof_predictions)\n",
    "\tsuper_final_oof_predictions2.append(final_oof_predictions2)\n",
    "\n",
    "\tfinal_oof_true = df_valid['Pawpularity'].values\n",
    "\tsuper_final_oof_true.append(final_oof_true)\n",
    "\t##################\n",
    "\n",
    "\t##################\n",
    "\t# COMPUTE RSME\n",
    "\trsme = np.sqrt(np.mean((super_final_oof_true[-1] - np.array(super_final_oof_predictions[-1])) ** 2.0))\n",
    "\tprint('NN RSME =', rsme, '\\n')\n",
    "\trsme = np.sqrt(np.mean((super_final_oof_true[-1] - np.array(super_final_oof_predictions2[-1])) ** 2.0))\n",
    "\tprint('SVR RSME =', rsme, '\\n')\n",
    "\n",
    "\tw = 0.5\n",
    "\toof2 = (1 - w) * np.array(super_final_oof_predictions[-1]) + w * np.array(super_final_oof_predictions2[-1])\n",
    "\trsme = np.sqrt(np.mean((super_final_oof_true[-1] - oof2) ** 2.0))\n",
    "\tprint('Ensemble RSME =', rsme, '\\n')"
   ]
  },
  {
   "cell_type": "markdown",
   "id": "8bf1bfcc",
   "metadata": {
    "papermill": {
     "duration": 0.19849,
     "end_time": "2021-10-21T04:10:20.026376",
     "exception": false,
     "start_time": "2021-10-21T04:10:19.827886",
     "status": "completed"
    },
    "tags": []
   },
   "source": [
    "# Compute CV Score\n",
    "Below we compute the overall CV RSME scores of just the NN head, just the SVR head, and an ensemble of 50% NN and 50% SVR heads. Then we plot all ensemble weights to find the optimal weights for NN head and SVR heads."
   ]
  },
  {
   "cell_type": "code",
   "execution_count": 5,
   "id": "f9878d56",
   "metadata": {
    "execution": {
     "iopub.execute_input": "2021-10-21T04:10:20.430378Z",
     "iopub.status.busy": "2021-10-21T04:10:20.423156Z",
     "iopub.status.idle": "2021-10-21T04:10:20.439503Z",
     "shell.execute_reply": "2021-10-21T04:10:20.438891Z",
     "shell.execute_reply.started": "2021-10-21T04:00:20.247872Z"
    },
    "papermill": {
     "duration": 0.216111,
     "end_time": "2021-10-21T04:10:20.439625",
     "exception": false,
     "start_time": "2021-10-21T04:10:20.223514",
     "status": "completed"
    },
    "tags": []
   },
   "outputs": [
    {
     "name": "stdout",
     "output_type": "stream",
     "text": [
      "Overall CV NN head RSME = 18.093733135357894\n",
      "Overall CV SVR head RSME = 18.10523005264604\n",
      "Overall CV Ensemble heads RSME with 50% NN and 50% SVR = 17.871123517721248\n"
     ]
    }
   ],
   "source": [
    "true = np.hstack(super_final_oof_true)\n",
    "\n",
    "oof = np.hstack(super_final_oof_predictions)\n",
    "rsme = np.sqrt(np.mean((oof - true) ** 2.0))\n",
    "print('Overall CV NN head RSME =', rsme)\n",
    "\n",
    "oof2 = np.hstack(super_final_oof_predictions2)\n",
    "rsme = np.sqrt(np.mean((oof2 - true) ** 2.0))\n",
    "print('Overall CV SVR head RSME =', rsme)\n",
    "\n",
    "oof3 = (1 - w) * oof + w * oof2\n",
    "rsme = np.sqrt(np.mean((oof3 - true) ** 2.0))\n",
    "print('Overall CV Ensemble heads RSME with 50% NN and 50% SVR =', rsme)"
   ]
  },
  {
   "cell_type": "code",
   "execution_count": 6,
   "id": "5cfec977",
   "metadata": {
    "_kg_hide-input": true,
    "execution": {
     "iopub.execute_input": "2021-10-21T04:10:20.842994Z",
     "iopub.status.busy": "2021-10-21T04:10:20.841920Z",
     "iopub.status.idle": "2021-10-21T04:10:21.290129Z",
     "shell.execute_reply": "2021-10-21T04:10:21.289675Z",
     "shell.execute_reply.started": "2021-10-21T04:00:20.263871Z"
    },
    "papermill": {
     "duration": 0.65336,
     "end_time": "2021-10-21T04:10:21.290255",
     "exception": false,
     "start_time": "2021-10-21T04:10:20.636895",
     "status": "completed"
    },
    "tags": []
   },
   "outputs": [
    {
     "data": {
      "image/png": "[encoded data removed]",
      "text/plain": [
       "<Figure size 1440x360 with 1 Axes>"
      ]
     },
     "metadata": {
      "needs_background": "light"
     },
     "output_type": "display_data"
    }
   ],
   "source": [
    "import matplotlib.pyplot as plt\n",
    "\n",
    "score = []\n",
    "for ww in np.arange(0, 1.05, 0.05):\n",
    "\toof3 = (1 - ww) * oof + ww * oof2\n",
    "\trsme = np.sqrt(np.mean((oof3 - true) ** 2.0))\n",
    "\t#print(f'{ww:0.2} CV Ensemble RSME =',rsme)\n",
    "\tscore.append(rsme)\n",
    "best_w = np.argmin(score) * 0.05\n",
    "\n",
    "plt.figure(figsize=(20, 5))\n",
    "plt.plot(np.arange(21) / 20.0, score, '-o')\n",
    "plt.plot([best_w], np.min(score), 'o', color='black', markersize=15)\n",
    "plt.title(f'Best Overall CV RSME={np.min(score):.4} with SVR Ensemble Weight={best_w:.2}', size=16)\n",
    "plt.ylabel('Overall Ensemble RSME', size=14)\n",
    "plt.xlabel('SVR Weight', size=14)\n",
    "plt.show()"
   ]
  },
  {
   "cell_type": "markdown",
   "id": "8505ea58",
   "metadata": {
    "papermill": {
     "duration": 0.199407,
     "end_time": "2021-10-21T04:10:21.689729",
     "exception": false,
     "start_time": "2021-10-21T04:10:21.490322",
     "status": "completed"
    },
    "tags": []
   },
   "source": [
    "# Trust CV or LB?\n",
    "Above we see that using 50% NN head and 50% SVR head achieves the best overall CV score. However our RAPIDS SVR head isn't helping public LB much. We also notice that our RAPIDS SVR head helped folds `1, 2, 4, 5, 7, 8, 9, 10` but did not help folds `3, 6`. So is public test data just a \"bad fold\"? Will our RAPIDS SVR head help private LB? Below we force the weight of SVR head to be 10% in order to achieve a slight public LB boost. But maybe for final submission, we should use 50%??"
   ]
  },
  {
   "cell_type": "code",
   "execution_count": 7,
   "id": "ee1b3fa9",
   "metadata": {
    "execution": {
     "iopub.execute_input": "2021-10-21T04:10:22.092474Z",
     "iopub.status.busy": "2021-10-21T04:10:22.091629Z",
     "iopub.status.idle": "2021-10-21T04:10:22.094494Z",
     "shell.execute_reply": "2021-10-21T04:10:22.093998Z",
     "shell.execute_reply.started": "2021-10-21T04:00:20.700454Z"
    },
    "papermill": {
     "duration": 0.206419,
     "end_time": "2021-10-21T04:10:22.094612",
     "exception": false,
     "start_time": "2021-10-21T04:10:21.888193",
     "status": "completed"
    },
    "tags": []
   },
   "outputs": [],
   "source": [
    "# FORCE SVR WEIGHT TO LOWER VALUE TO HELP PUBLIC LB\n",
    "best_w = 0.2"
   ]
  },
  {
   "cell_type": "markdown",
   "id": "30c455d4",
   "metadata": {
    "papermill": {
     "duration": 0.200072,
     "end_time": "2021-10-21T04:10:22.499279",
     "exception": false,
     "start_time": "2021-10-21T04:10:22.299207",
     "status": "completed"
    },
    "tags": []
   },
   "source": [
    "# Make Submission CSV\n",
    "We make a submission csv using an ensemble of both heads. We use the optimal ensemble weights that we discovered above."
   ]
  },
  {
   "cell_type": "code",
   "execution_count": 8,
   "id": "9fca8cf1",
   "metadata": {
    "execution": {
     "iopub.execute_input": "2021-10-21T04:10:22.959453Z",
     "iopub.status.busy": "2021-10-21T04:10:22.958598Z",
     "iopub.status.idle": "2021-10-21T04:10:22.971241Z",
     "shell.execute_reply": "2021-10-21T04:10:22.971687Z",
     "shell.execute_reply.started": "2021-10-21T04:00:20.707017Z"
    },
    "papermill": {
     "duration": 0.221727,
     "end_time": "2021-10-21T04:10:22.971832",
     "exception": false,
     "start_time": "2021-10-21T04:10:22.750105",
     "status": "completed"
    },
    "tags": []
   },
   "outputs": [
    {
     "data": {
      "text/html": [
       "<div>\n",
       "<style scoped>\n",
       "    .dataframe tbody tr th:only-of-type {\n",
       "        vertical-align: middle;\n",
       "    }\n",
       "\n",
       "    .dataframe tbody tr th {\n",
       "        vertical-align: top;\n",
       "    }\n",
       "\n",
       "    .dataframe thead th {\n",
       "        text-align: right;\n",
       "    }\n",
       "</style>\n",
       "<table border=\"1\" class=\"dataframe\">\n",
       "  <thead>\n",
       "    <tr style=\"text-align: right;\">\n",
       "      <th></th>\n",
       "      <th>Id</th>\n",
       "      <th>Pawpularity</th>\n",
       "    </tr>\n",
       "  </thead>\n",
       "  <tbody>\n",
       "    <tr>\n",
       "      <th>0</th>\n",
       "      <td>4128bae22183829d2b5fea10effdb0c3</td>\n",
       "      <td>37.533920</td>\n",
       "    </tr>\n",
       "    <tr>\n",
       "      <th>1</th>\n",
       "      <td>43a2262d7738e3d420d453815151079e</td>\n",
       "      <td>37.225172</td>\n",
       "    </tr>\n",
       "    <tr>\n",
       "      <th>2</th>\n",
       "      <td>4e429cead1848a298432a0acad014c9d</td>\n",
       "      <td>36.200547</td>\n",
       "    </tr>\n",
       "    <tr>\n",
       "      <th>3</th>\n",
       "      <td>80bc3ccafcc51b66303c2c263aa38486</td>\n",
       "      <td>36.226596</td>\n",
       "    </tr>\n",
       "    <tr>\n",
       "      <th>4</th>\n",
       "      <td>8f49844c382931444e68dffbe20228f4</td>\n",
       "      <td>36.333241</td>\n",
       "    </tr>\n",
       "  </tbody>\n",
       "</table>\n",
       "</div>"
      ],
      "text/plain": [
       "                                 Id  Pawpularity\n",
       "0  4128bae22183829d2b5fea10effdb0c3    37.533920\n",
       "1  43a2262d7738e3d420d453815151079e    37.225172\n",
       "2  4e429cead1848a298432a0acad014c9d    36.200547\n",
       "3  80bc3ccafcc51b66303c2c263aa38486    36.226596\n",
       "4  8f49844c382931444e68dffbe20228f4    36.333241"
      ]
     },
     "execution_count": 8,
     "metadata": {},
     "output_type": "execute_result"
    }
   ],
   "source": [
    "super_final_predictions = np.mean(np.column_stack(super_final_predictions), axis=1)\n",
    "super_final_predictions2 = np.mean(np.column_stack(super_final_predictions2), axis=1)\n",
    "df_test[\"Pawpularity\"] = (1 - best_w) * super_final_predictions + best_w * super_final_predictions2\n",
    "df_test = df_test[[\"Id\", \"Pawpularity\"]]\n",
    "df_test.to_csv(\"submission.csv\", index=False)\n",
    "df_test.head()"
   ]
  },
  {
   "cell_type": "code",
   "execution_count": null,
   "id": "52fb3bee",
   "metadata": {
    "papermill": {
     "duration": 0.211323,
     "end_time": "2021-10-21T04:10:23.385110",
     "exception": false,
     "start_time": "2021-10-21T04:10:23.173787",
     "status": "completed"
    },
    "tags": []
   },
   "outputs": [],
   "source": []
  },
  {
   "cell_type": "code",
   "execution_count": null,
   "id": "dc0fa2b7",
   "metadata": {
    "papermill": {
     "duration": 0.197635,
     "end_time": "2021-10-21T04:10:23.793994",
     "exception": false,
     "start_time": "2021-10-21T04:10:23.596359",
     "status": "completed"
    },
    "tags": []
   },
   "outputs": [],
   "source": []
  }
 ],
 "metadata": {
  "kernelspec": {
   "name": "pycharm-ddae96e2",
   "language": "python",
   "display_name": "PyCharm (PetFinder)"
  },
  "language_info": {
   "codemirror_mode": {
    "name": "ipython",
    "version": 3
   },
   "file_extension": ".py",
   "mimetype": "text/x-python",
   "name": "python",
   "nbconvert_exporter": "python",
   "pygments_lexer": "ipython3",
   "version": "3.7.10"
  },
  "papermill": {
   "default_parameters": {},
   "duration": 591.87631,
   "end_time": "2021-10-21T04:10:26.947600",
   "environment_variables": {},
   "exception": null,
   "input_path": "__notebook__.ipynb",
   "output_path": "__notebook__.ipynb",
   "parameters": {},
   "start_time": "2021-10-21T04:00:35.071290",
   "version": "2.3.3"
  }
 },
 "nbformat": 4,
 "nbformat_minor": 5
}