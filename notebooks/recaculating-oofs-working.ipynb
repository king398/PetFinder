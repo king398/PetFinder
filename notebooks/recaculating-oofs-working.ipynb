{
 "cells": [
  {
   "cell_type": "code",
   "execution_count": null,
   "id": "560f1ab3",
   "metadata": {
    "execution": {
     "iopub.execute_input": "2022-01-02T07:08:48.852778Z",
     "iopub.status.busy": "2022-01-02T07:08:48.850559Z",
     "iopub.status.idle": "2022-01-02T07:08:48.853625Z",
     "shell.execute_reply": "2022-01-02T07:08:48.854251Z",
     "shell.execute_reply.started": "2022-01-02T06:50:36.154384Z"
    },
    "papermill": {
     "duration": 0.037048,
     "end_time": "2022-01-02T07:08:48.854534",
     "exception": false,
     "start_time": "2022-01-02T07:08:48.817486",
     "status": "completed"
    },
    "tags": [],
    "pycharm": {
     "is_executing": true
    }
   },
   "outputs": [],
   "source": [
    "SEED = 365"
   ]
  },
  {
   "cell_type": "code",
   "execution_count": null,
   "id": "2fd9c787",
   "metadata": {
    "execution": {
     "iopub.execute_input": "2022-01-02T07:08:48.891816Z",
     "iopub.status.busy": "2022-01-02T07:08:48.891007Z",
     "iopub.status.idle": "2022-01-02T07:08:57.138805Z",
     "shell.execute_reply": "2022-01-02T07:08:57.137865Z",
     "shell.execute_reply.started": "2022-01-02T06:50:36.179564Z"
    },
    "papermill": {
     "duration": 8.269658,
     "end_time": "2022-01-02T07:08:57.138950",
     "exception": false,
     "start_time": "2022-01-02T07:08:48.869292",
     "status": "completed"
    },
    "tags": [],
    "pycharm": {
     "is_executing": true
    }
   },
   "outputs": [],
   "source": [
    "import sys\n",
    "\n",
    "from timm import create_model\n",
    "from timm.data.mixup import Mixup\n",
    "\n",
    "from fastai.vision.all import *"
   ]
  },
  {
   "cell_type": "code",
   "execution_count": 3,
   "id": "6e17c599",
   "metadata": {
    "execution": {
     "iopub.execute_input": "2022-01-02T07:08:57.162168Z",
     "iopub.status.busy": "2022-01-02T07:08:57.160570Z",
     "iopub.status.idle": "2022-01-02T07:08:57.162742Z",
     "shell.execute_reply": "2022-01-02T07:08:57.163176Z",
     "shell.execute_reply.started": "2022-01-02T06:50:44.322153Z"
    },
    "papermill": {
     "duration": 0.0156,
     "end_time": "2022-01-02T07:08:57.163307",
     "exception": false,
     "start_time": "2022-01-02T07:08:57.147707",
     "status": "completed"
    },
    "tags": []
   },
   "outputs": [],
   "source": [
    "set_seed(SEED, reproducible=True)\n",
    "BATCH_SIZE = 8\n",
    "NEED_TRAIN = True"
   ]
  },
  {
   "cell_type": "code",
   "execution_count": 4,
   "id": "91a78126",
   "metadata": {
    "execution": {
     "iopub.execute_input": "2022-01-02T07:08:57.186201Z",
     "iopub.status.busy": "2022-01-02T07:08:57.185626Z",
     "iopub.status.idle": "2022-01-02T07:08:57.335408Z",
     "shell.execute_reply": "2022-01-02T07:08:57.334814Z",
     "shell.execute_reply.started": "2022-01-02T06:50:44.329594Z"
    },
    "papermill": {
     "duration": 0.163685,
     "end_time": "2022-01-02T07:08:57.335540",
     "exception": false,
     "start_time": "2022-01-02T07:08:57.171855",
     "status": "completed"
    },
    "tags": []
   },
   "outputs": [
    {
     "data": {
      "text/html": [
       "<div>\n",
       "<style scoped>\n",
       "    .dataframe tbody tr th:only-of-type {\n",
       "        vertical-align: middle;\n",
       "    }\n",
       "\n",
       "    .dataframe tbody tr th {\n",
       "        vertical-align: top;\n",
       "    }\n",
       "\n",
       "    .dataframe thead th {\n",
       "        text-align: right;\n",
       "    }\n",
       "</style>\n",
       "<table border=\"1\" class=\"dataframe\">\n",
       "  <thead>\n",
       "    <tr style=\"text-align: right;\">\n",
       "      <th></th>\n",
       "      <th>Subject Focus</th>\n",
       "      <th>Eyes</th>\n",
       "      <th>Face</th>\n",
       "      <th>Near</th>\n",
       "      <th>Action</th>\n",
       "      <th>Accessory</th>\n",
       "      <th>Group</th>\n",
       "      <th>Collage</th>\n",
       "      <th>Human</th>\n",
       "      <th>Occlusion</th>\n",
       "      <th>Info</th>\n",
       "      <th>Blur</th>\n",
       "      <th>Pawpularity</th>\n",
       "      <th>Breed</th>\n",
       "      <th>kfold</th>\n",
       "      <th>path</th>\n",
       "    </tr>\n",
       "  </thead>\n",
       "  <tbody>\n",
       "    <tr>\n",
       "      <th>0</th>\n",
       "      <td>0</td>\n",
       "      <td>1</td>\n",
       "      <td>1</td>\n",
       "      <td>1</td>\n",
       "      <td>0</td>\n",
       "      <td>0</td>\n",
       "      <td>0</td>\n",
       "      <td>0</td>\n",
       "      <td>0</td>\n",
       "      <td>0</td>\n",
       "      <td>0</td>\n",
       "      <td>0</td>\n",
       "      <td>25</td>\n",
       "      <td>1</td>\n",
       "      <td>8</td>\n",
       "      <td>../input/petfinder-pawpularity-score/train/7b4c408fa4ad8bc1d1a720dc0417c8b6.jpg</td>\n",
       "    </tr>\n",
       "    <tr>\n",
       "      <th>1</th>\n",
       "      <td>0</td>\n",
       "      <td>1</td>\n",
       "      <td>1</td>\n",
       "      <td>1</td>\n",
       "      <td>0</td>\n",
       "      <td>0</td>\n",
       "      <td>0</td>\n",
       "      <td>0</td>\n",
       "      <td>0</td>\n",
       "      <td>0</td>\n",
       "      <td>0</td>\n",
       "      <td>0</td>\n",
       "      <td>36</td>\n",
       "      <td>0</td>\n",
       "      <td>2</td>\n",
       "      <td>../input/petfinder-pawpularity-score/train/b9cf47f8b3b5a0855bb3293b138776e5.jpg</td>\n",
       "    </tr>\n",
       "    <tr>\n",
       "      <th>2</th>\n",
       "      <td>0</td>\n",
       "      <td>1</td>\n",
       "      <td>1</td>\n",
       "      <td>0</td>\n",
       "      <td>0</td>\n",
       "      <td>0</td>\n",
       "      <td>0</td>\n",
       "      <td>0</td>\n",
       "      <td>1</td>\n",
       "      <td>1</td>\n",
       "      <td>0</td>\n",
       "      <td>0</td>\n",
       "      <td>51</td>\n",
       "      <td>1</td>\n",
       "      <td>8</td>\n",
       "      <td>../input/petfinder-pawpularity-score/train/ff903858a9899465ee4cd17e942bef24.jpg</td>\n",
       "    </tr>\n",
       "    <tr>\n",
       "      <th>3</th>\n",
       "      <td>1</td>\n",
       "      <td>1</td>\n",
       "      <td>1</td>\n",
       "      <td>1</td>\n",
       "      <td>0</td>\n",
       "      <td>0</td>\n",
       "      <td>0</td>\n",
       "      <td>0</td>\n",
       "      <td>0</td>\n",
       "      <td>0</td>\n",
       "      <td>0</td>\n",
       "      <td>0</td>\n",
       "      <td>29</td>\n",
       "      <td>1</td>\n",
       "      <td>5</td>\n",
       "      <td>../input/petfinder-pawpularity-score/train/86ccbbb4eee306d37ac4c41c031ffce5.jpg</td>\n",
       "    </tr>\n",
       "    <tr>\n",
       "      <th>4</th>\n",
       "      <td>0</td>\n",
       "      <td>1</td>\n",
       "      <td>1</td>\n",
       "      <td>1</td>\n",
       "      <td>0</td>\n",
       "      <td>0</td>\n",
       "      <td>0</td>\n",
       "      <td>0</td>\n",
       "      <td>0</td>\n",
       "      <td>0</td>\n",
       "      <td>0</td>\n",
       "      <td>0</td>\n",
       "      <td>17</td>\n",
       "      <td>0</td>\n",
       "      <td>0</td>\n",
       "      <td>../input/petfinder-pawpularity-score/train/fe80fffa8bab0dafba63a9b4f07b557a.jpg</td>\n",
       "    </tr>\n",
       "  </tbody>\n",
       "</table>\n",
       "</div>"
      ],
      "text/plain": [
       "   Subject Focus  Eyes  Face  Near  Action  Accessory  Group  Collage  Human  \\\n",
       "0              0     1     1     1       0          0      0        0      0   \n",
       "1              0     1     1     1       0          0      0        0      0   \n",
       "2              0     1     1     0       0          0      0        0      1   \n",
       "3              1     1     1     1       0          0      0        0      0   \n",
       "4              0     1     1     1       0          0      0        0      0   \n",
       "\n",
       "   Occlusion  Info  Blur  Pawpularity  Breed  kfold  \\\n",
       "0          0     0     0           25      1      8   \n",
       "1          0     0     0           36      0      2   \n",
       "2          1     0     0           51      1      8   \n",
       "3          0     0     0           29      1      5   \n",
       "4          0     0     0           17      0      0   \n",
       "\n",
       "                                                                              path  \n",
       "0  ../input/petfinder-pawpularity-score/train/7b4c408fa4ad8bc1d1a720dc0417c8b6.jpg  \n",
       "1  ../input/petfinder-pawpularity-score/train/b9cf47f8b3b5a0855bb3293b138776e5.jpg  \n",
       "2  ../input/petfinder-pawpularity-score/train/ff903858a9899465ee4cd17e942bef24.jpg  \n",
       "3  ../input/petfinder-pawpularity-score/train/86ccbbb4eee306d37ac4c41c031ffce5.jpg  \n",
       "4  ../input/petfinder-pawpularity-score/train/fe80fffa8bab0dafba63a9b4f07b557a.jpg  "
      ]
     },
     "execution_count": 4,
     "metadata": {},
     "output_type": "execute_result"
    }
   ],
   "source": [
    "train_df = pd.read_csv(r'F:\\Pycharm_projects\\PetFinder\\data\\train_10folds_rice_fold.csv')\n",
    "dataset_path = Path('../input/petfinder-pawpularity-score/train/')\n",
    "train_df['path'] = train_df['Id'].map(lambda x: str(dataset_path/x) + '.jpg')\n",
    "train_df = train_df.drop(columns=['Id'])\n",
    "train_df = train_df.sample(frac=1).reset_index(drop=True) #shuffle dataframe\n",
    "train_df.head()"
   ]
  },
  {
   "cell_type": "code",
   "execution_count": 5,
   "id": "94555448",
   "metadata": {
    "execution": {
     "iopub.execute_input": "2022-01-02T07:08:57.363337Z",
     "iopub.status.busy": "2022-01-02T07:08:57.362176Z",
     "iopub.status.idle": "2022-01-02T07:08:57.365289Z",
     "shell.execute_reply": "2022-01-02T07:08:57.365662Z",
     "shell.execute_reply.started": "2022-01-02T06:50:44.472674Z"
    },
    "papermill": {
     "duration": 0.020604,
     "end_time": "2022-01-02T07:08:57.365788",
     "exception": false,
     "start_time": "2022-01-02T07:08:57.345184",
     "status": "completed"
    },
    "tags": []
   },
   "outputs": [
    {
     "data": {
      "text/plain": [
       "0       0.25\n",
       "1       0.36\n",
       "2       0.51\n",
       "3       0.29\n",
       "4       0.17\n",
       "        ... \n",
       "9880    0.54\n",
       "9881    0.27\n",
       "9882    0.42\n",
       "9883    0.76\n",
       "9884    0.30\n",
       "Name: norm_score, Length: 9885, dtype: float64"
      ]
     },
     "execution_count": 5,
     "metadata": {},
     "output_type": "execute_result"
    }
   ],
   "source": [
    "train_df['norm_score'] = train_df['Pawpularity']/100\n",
    "train_df['norm_score']"
   ]
  },
  {
   "cell_type": "code",
   "execution_count": 6,
   "id": "a95b4ce2",
   "metadata": {
    "execution": {
     "iopub.execute_input": "2022-01-02T07:08:57.389404Z",
     "iopub.status.busy": "2022-01-02T07:08:57.388572Z",
     "iopub.status.idle": "2022-01-02T07:09:06.711153Z",
     "shell.execute_reply": "2022-01-02T07:09:06.710638Z",
     "shell.execute_reply.started": "2022-01-02T06:50:44.484274Z"
    },
    "papermill": {
     "duration": 9.335843,
     "end_time": "2022-01-02T07:09:06.711295",
     "exception": false,
     "start_time": "2022-01-02T07:08:57.375452",
     "status": "completed"
    },
    "tags": []
   },
   "outputs": [],
   "source": [
    "if not os.path.exists('/root/.cache/torch/hub/checkpoints/'):\n",
    "    os.makedirs('/root/.cache/torch/hub/checkpoints/')\n",
    "!cp '../input/swin-transformer/swin_large_patch4_window7_224_22kto1k.pth' '/root/.cache/torch/hub/checkpoints/swin_large_patch4_window7_224_22kto1k.pth'"
   ]
  },
  {
   "cell_type": "code",
   "execution_count": 7,
   "id": "9dc85111",
   "metadata": {
    "execution": {
     "iopub.execute_input": "2022-01-02T07:09:06.737222Z",
     "iopub.status.busy": "2022-01-02T07:09:06.736421Z",
     "iopub.status.idle": "2022-01-02T07:09:06.738345Z",
     "shell.execute_reply": "2022-01-02T07:09:06.738784Z",
     "shell.execute_reply.started": "2022-01-02T06:50:53.223888Z"
    },
    "papermill": {
     "duration": 0.017225,
     "end_time": "2022-01-02T07:09:06.738902",
     "exception": false,
     "start_time": "2022-01-02T07:09:06.721677",
     "status": "completed"
    },
    "tags": []
   },
   "outputs": [],
   "source": [
    "seed=SEED\n",
    "set_seed(seed, reproducible=True)\n",
    "torch.manual_seed(seed)\n",
    "torch.cuda.manual_seed(seed)\n",
    "torch.backends.cudnn.deterministic = True\n",
    "torch.use_deterministic_algorithms = True"
   ]
  },
  {
   "cell_type": "code",
   "execution_count": 8,
   "id": "1e0bee14",
   "metadata": {
    "execution": {
     "iopub.execute_input": "2022-01-02T07:09:06.762148Z",
     "iopub.status.busy": "2022-01-02T07:09:06.761307Z",
     "iopub.status.idle": "2022-01-02T07:09:06.763229Z",
     "shell.execute_reply": "2022-01-02T07:09:06.763718Z",
     "shell.execute_reply.started": "2022-01-02T06:50:53.231733Z"
    },
    "papermill": {
     "duration": 0.015642,
     "end_time": "2022-01-02T07:09:06.763835",
     "exception": false,
     "start_time": "2022-01-02T07:09:06.748193",
     "status": "completed"
    },
    "tags": []
   },
   "outputs": [],
   "source": [
    "def petfinder_rmse(input,target):\n",
    "    return 100*torch.sqrt(F.mse_loss(F.sigmoid(input.flatten()), target))"
   ]
  },
  {
   "cell_type": "code",
   "execution_count": 9,
   "id": "3bfece98",
   "metadata": {
    "execution": {
     "iopub.execute_input": "2022-01-02T07:09:06.793810Z",
     "iopub.status.busy": "2022-01-02T07:09:06.790037Z",
     "iopub.status.idle": "2022-01-02T07:59:20.604843Z",
     "shell.execute_reply": "2022-01-02T07:59:20.604360Z"
    },
    "papermill": {
     "duration": 3013.831957,
     "end_time": "2022-01-02T07:59:20.604971",
     "exception": false,
     "start_time": "2022-01-02T07:09:06.773014",
     "status": "completed"
    },
    "tags": []
   },
   "outputs": [
    {
     "name": "stdout",
     "output_type": "stream",
     "text": [
      "Fold 0 results\n"
     ]
    },
    {
     "data": {
      "text/html": [
       "\n",
       "    <div>\n",
       "        <style>\n",
       "            /* Turns off some styling */\n",
       "            progress {\n",
       "                /* gets rid of default border in Firefox and Opera. */\n",
       "                border: none;\n",
       "                /* Needs to be in here for Safari polyfill so background images work as expected. */\n",
       "                background-size: auto;\n",
       "            }\n",
       "            .progress-bar-interrupted, .progress-bar-interrupted::-webkit-progress-bar {\n",
       "                background: #F44336;\n",
       "            }\n",
       "        </style>\n",
       "      <progress value='0' class='' max='5' style='width:300px; height:20px; vertical-align: middle;'></progress>\n",
       "      \n",
       "    </div>\n",
       "    \n"
      ],
      "text/plain": [
       "<IPython.core.display.HTML object>"
      ]
     },
     "metadata": {},
     "output_type": "display_data"
    },
    {
     "data": {
      "text/html": [],
      "text/plain": [
       "<IPython.core.display.HTML object>"
      ]
     },
     "metadata": {},
     "output_type": "display_data"
    },
    {
     "name": "stdout",
     "output_type": "stream",
     "text": [
      "Pawpularity vs OOF\n",
      "4     17\n",
      "6     20\n",
      "10    28\n",
      "19    43\n",
      "21    32\n",
      "Name: Pawpularity, dtype: int64 [[26.06312 ]\n",
      " [32.279415]\n",
      " [38.362972]\n",
      " [39.084564]\n",
      " [54.79288 ]]\n",
      "Fold 0 RMSE: 16.94825465562056\n",
      "Fold 1 results\n"
     ]
    },
    {
     "data": {
      "text/html": [
       "\n",
       "    <div>\n",
       "        <style>\n",
       "            /* Turns off some styling */\n",
       "            progress {\n",
       "                /* gets rid of default border in Firefox and Opera. */\n",
       "                border: none;\n",
       "                /* Needs to be in here for Safari polyfill so background images work as expected. */\n",
       "                background-size: auto;\n",
       "            }\n",
       "            .progress-bar-interrupted, .progress-bar-interrupted::-webkit-progress-bar {\n",
       "                background: #F44336;\n",
       "            }\n",
       "        </style>\n",
       "      <progress value='0' class='' max='5' style='width:300px; height:20px; vertical-align: middle;'></progress>\n",
       "      \n",
       "    </div>\n",
       "    \n"
      ],
      "text/plain": [
       "<IPython.core.display.HTML object>"
      ]
     },
     "metadata": {},
     "output_type": "display_data"
    },
    {
     "data": {
      "text/html": [],
      "text/plain": [
       "<IPython.core.display.HTML object>"
      ]
     },
     "metadata": {},
     "output_type": "display_data"
    },
    {
     "name": "stdout",
     "output_type": "stream",
     "text": [
      "Pawpularity vs OOF\n",
      "7     63\n",
      "11    67\n",
      "18    39\n",
      "20    36\n",
      "31    29\n",
      "Name: Pawpularity, dtype: int64 [[47.093147]\n",
      " [47.5447  ]\n",
      " [34.2781  ]\n",
      " [27.27301 ]\n",
      " [50.16638 ]]\n",
      "Fold 1 RMSE: 17.93535502890475\n",
      "Fold 2 results\n"
     ]
    },
    {
     "data": {
      "text/html": [
       "\n",
       "    <div>\n",
       "        <style>\n",
       "            /* Turns off some styling */\n",
       "            progress {\n",
       "                /* gets rid of default border in Firefox and Opera. */\n",
       "                border: none;\n",
       "                /* Needs to be in here for Safari polyfill so background images work as expected. */\n",
       "                background-size: auto;\n",
       "            }\n",
       "            .progress-bar-interrupted, .progress-bar-interrupted::-webkit-progress-bar {\n",
       "                background: #F44336;\n",
       "            }\n",
       "        </style>\n",
       "      <progress value='0' class='' max='5' style='width:300px; height:20px; vertical-align: middle;'></progress>\n",
       "      \n",
       "    </div>\n",
       "    \n"
      ],
      "text/plain": [
       "<IPython.core.display.HTML object>"
      ]
     },
     "metadata": {},
     "output_type": "display_data"
    },
    {
     "data": {
      "text/html": [],
      "text/plain": [
       "<IPython.core.display.HTML object>"
      ]
     },
     "metadata": {},
     "output_type": "display_data"
    },
    {
     "name": "stdout",
     "output_type": "stream",
     "text": [
      "Pawpularity vs OOF\n",
      "1     36\n",
      "68    30\n",
      "69    20\n",
      "70    24\n",
      "80    25\n",
      "Name: Pawpularity, dtype: int64 [[32.947937]\n",
      " [32.818394]\n",
      " [28.15123 ]\n",
      " [29.985958]\n",
      " [24.700356]]\n",
      "Fold 2 RMSE: 17.240240151787933\n",
      "Fold 3 results\n"
     ]
    },
    {
     "data": {
      "text/html": [
       "\n",
       "    <div>\n",
       "        <style>\n",
       "            /* Turns off some styling */\n",
       "            progress {\n",
       "                /* gets rid of default border in Firefox and Opera. */\n",
       "                border: none;\n",
       "                /* Needs to be in here for Safari polyfill so background images work as expected. */\n",
       "                background-size: auto;\n",
       "            }\n",
       "            .progress-bar-interrupted, .progress-bar-interrupted::-webkit-progress-bar {\n",
       "                background: #F44336;\n",
       "            }\n",
       "        </style>\n",
       "      <progress value='0' class='' max='5' style='width:300px; height:20px; vertical-align: middle;'></progress>\n",
       "      \n",
       "    </div>\n",
       "    \n"
      ],
      "text/plain": [
       "<IPython.core.display.HTML object>"
      ]
     },
     "metadata": {},
     "output_type": "display_data"
    },
    {
     "data": {
      "text/html": [],
      "text/plain": [
       "<IPython.core.display.HTML object>"
      ]
     },
     "metadata": {},
     "output_type": "display_data"
    },
    {
     "name": "stdout",
     "output_type": "stream",
     "text": [
      "Pawpularity vs OOF\n",
      "13    33\n",
      "23    63\n",
      "46    40\n",
      "49     2\n",
      "51    55\n",
      "Name: Pawpularity, dtype: int64 [[29.895258]\n",
      " [43.764942]\n",
      " [27.198523]\n",
      " [32.153805]\n",
      " [43.637447]]\n",
      "Fold 3 RMSE: 18.200891953374644\n",
      "Fold 4 results\n"
     ]
    },
    {
     "data": {
      "text/html": [
       "\n",
       "    <div>\n",
       "        <style>\n",
       "            /* Turns off some styling */\n",
       "            progress {\n",
       "                /* gets rid of default border in Firefox and Opera. */\n",
       "                border: none;\n",
       "                /* Needs to be in here for Safari polyfill so background images work as expected. */\n",
       "                background-size: auto;\n",
       "            }\n",
       "            .progress-bar-interrupted, .progress-bar-interrupted::-webkit-progress-bar {\n",
       "                background: #F44336;\n",
       "            }\n",
       "        </style>\n",
       "      <progress value='0' class='' max='5' style='width:300px; height:20px; vertical-align: middle;'></progress>\n",
       "      \n",
       "    </div>\n",
       "    \n"
      ],
      "text/plain": [
       "<IPython.core.display.HTML object>"
      ]
     },
     "metadata": {},
     "output_type": "display_data"
    },
    {
     "data": {
      "text/html": [],
      "text/plain": [
       "<IPython.core.display.HTML object>"
      ]
     },
     "metadata": {},
     "output_type": "display_data"
    },
    {
     "name": "stdout",
     "output_type": "stream",
     "text": [
      "Pawpularity vs OOF\n",
      "15    23\n",
      "26    41\n",
      "38    26\n",
      "58    27\n",
      "73    44\n",
      "Name: Pawpularity, dtype: int64 [[37.9936  ]\n",
      " [30.75538 ]\n",
      " [43.413082]\n",
      " [39.36731 ]\n",
      " [50.377457]]\n",
      "Fold 4 RMSE: 17.501156033200978\n",
      "Fold 5 results\n"
     ]
    },
    {
     "data": {
      "text/html": [
       "\n",
       "    <div>\n",
       "        <style>\n",
       "            /* Turns off some styling */\n",
       "            progress {\n",
       "                /* gets rid of default border in Firefox and Opera. */\n",
       "                border: none;\n",
       "                /* Needs to be in here for Safari polyfill so background images work as expected. */\n",
       "                background-size: auto;\n",
       "            }\n",
       "            .progress-bar-interrupted, .progress-bar-interrupted::-webkit-progress-bar {\n",
       "                background: #F44336;\n",
       "            }\n",
       "        </style>\n",
       "      <progress value='0' class='' max='5' style='width:300px; height:20px; vertical-align: middle;'></progress>\n",
       "      \n",
       "    </div>\n",
       "    \n"
      ],
      "text/plain": [
       "<IPython.core.display.HTML object>"
      ]
     },
     "metadata": {},
     "output_type": "display_data"
    },
    {
     "data": {
      "text/html": [],
      "text/plain": [
       "<IPython.core.display.HTML object>"
      ]
     },
     "metadata": {},
     "output_type": "display_data"
    },
    {
     "name": "stdout",
     "output_type": "stream",
     "text": [
      "Pawpularity vs OOF\n",
      "3     29\n",
      "12    15\n",
      "29    30\n",
      "40    19\n",
      "50    34\n",
      "Name: Pawpularity, dtype: int64 [[36.79422 ]\n",
      " [33.20274 ]\n",
      " [32.23276 ]\n",
      " [32.15597 ]\n",
      " [30.810474]]\n",
      "Fold 5 RMSE: 16.571443920356398\n",
      "Fold 6 results\n"
     ]
    },
    {
     "data": {
      "text/html": [
       "\n",
       "    <div>\n",
       "        <style>\n",
       "            /* Turns off some styling */\n",
       "            progress {\n",
       "                /* gets rid of default border in Firefox and Opera. */\n",
       "                border: none;\n",
       "                /* Needs to be in here for Safari polyfill so background images work as expected. */\n",
       "                background-size: auto;\n",
       "            }\n",
       "            .progress-bar-interrupted, .progress-bar-interrupted::-webkit-progress-bar {\n",
       "                background: #F44336;\n",
       "            }\n",
       "        </style>\n",
       "      <progress value='0' class='' max='5' style='width:300px; height:20px; vertical-align: middle;'></progress>\n",
       "      \n",
       "    </div>\n",
       "    \n"
      ],
      "text/plain": [
       "<IPython.core.display.HTML object>"
      ]
     },
     "metadata": {},
     "output_type": "display_data"
    },
    {
     "data": {
      "text/html": [],
      "text/plain": [
       "<IPython.core.display.HTML object>"
      ]
     },
     "metadata": {},
     "output_type": "display_data"
    },
    {
     "name": "stdout",
     "output_type": "stream",
     "text": [
      "Pawpularity vs OOF\n",
      "17    19\n",
      "33    53\n",
      "34    10\n",
      "41    27\n",
      "42    21\n",
      "Name: Pawpularity, dtype: int64 [[30.793901]\n",
      " [49.05672 ]\n",
      " [25.438309]\n",
      " [37.826042]\n",
      " [31.57037 ]]\n",
      "Fold 6 RMSE: 17.178142338534208\n",
      "Fold 7 results\n"
     ]
    },
    {
     "data": {
      "text/html": [
       "\n",
       "    <div>\n",
       "        <style>\n",
       "            /* Turns off some styling */\n",
       "            progress {\n",
       "                /* gets rid of default border in Firefox and Opera. */\n",
       "                border: none;\n",
       "                /* Needs to be in here for Safari polyfill so background images work as expected. */\n",
       "                background-size: auto;\n",
       "            }\n",
       "            .progress-bar-interrupted, .progress-bar-interrupted::-webkit-progress-bar {\n",
       "                background: #F44336;\n",
       "            }\n",
       "        </style>\n",
       "      <progress value='0' class='' max='5' style='width:300px; height:20px; vertical-align: middle;'></progress>\n",
       "      \n",
       "    </div>\n",
       "    \n"
      ],
      "text/plain": [
       "<IPython.core.display.HTML object>"
      ]
     },
     "metadata": {},
     "output_type": "display_data"
    },
    {
     "data": {
      "text/html": [],
      "text/plain": [
       "<IPython.core.display.HTML object>"
      ]
     },
     "metadata": {},
     "output_type": "display_data"
    },
    {
     "name": "stdout",
     "output_type": "stream",
     "text": [
      "Pawpularity vs OOF\n",
      "14    34\n",
      "24    50\n",
      "39    22\n",
      "48    61\n",
      "64     2\n",
      "Name: Pawpularity, dtype: int64 [[34.36949 ]\n",
      " [29.306408]\n",
      " [30.825684]\n",
      " [46.04372 ]\n",
      " [34.937756]]\n",
      "Fold 7 RMSE: 17.30195262772249\n",
      "Fold 8 results\n"
     ]
    },
    {
     "data": {
      "text/html": [
       "\n",
       "    <div>\n",
       "        <style>\n",
       "            /* Turns off some styling */\n",
       "            progress {\n",
       "                /* gets rid of default border in Firefox and Opera. */\n",
       "                border: none;\n",
       "                /* Needs to be in here for Safari polyfill so background images work as expected. */\n",
       "                background-size: auto;\n",
       "            }\n",
       "            .progress-bar-interrupted, .progress-bar-interrupted::-webkit-progress-bar {\n",
       "                background: #F44336;\n",
       "            }\n",
       "        </style>\n",
       "      <progress value='0' class='' max='5' style='width:300px; height:20px; vertical-align: middle;'></progress>\n",
       "      \n",
       "    </div>\n",
       "    \n"
      ],
      "text/plain": [
       "<IPython.core.display.HTML object>"
      ]
     },
     "metadata": {},
     "output_type": "display_data"
    },
    {
     "data": {
      "text/html": [],
      "text/plain": [
       "<IPython.core.display.HTML object>"
      ]
     },
     "metadata": {},
     "output_type": "display_data"
    },
    {
     "name": "stdout",
     "output_type": "stream",
     "text": [
      "Pawpularity vs OOF\n",
      "0     25\n",
      "2     51\n",
      "5     45\n",
      "27    38\n",
      "43    38\n",
      "Name: Pawpularity, dtype: int64 [[32.770164]\n",
      " [37.63737 ]\n",
      " [42.266987]\n",
      " [47.650608]\n",
      " [32.279747]]\n",
      "Fold 8 RMSE: 17.55951062752766\n",
      "Fold 9 results\n"
     ]
    },
    {
     "data": {
      "text/html": [
       "\n",
       "    <div>\n",
       "        <style>\n",
       "            /* Turns off some styling */\n",
       "            progress {\n",
       "                /* gets rid of default border in Firefox and Opera. */\n",
       "                border: none;\n",
       "                /* Needs to be in here for Safari polyfill so background images work as expected. */\n",
       "                background-size: auto;\n",
       "            }\n",
       "            .progress-bar-interrupted, .progress-bar-interrupted::-webkit-progress-bar {\n",
       "                background: #F44336;\n",
       "            }\n",
       "        </style>\n",
       "      <progress value='0' class='' max='5' style='width:300px; height:20px; vertical-align: middle;'></progress>\n",
       "      \n",
       "    </div>\n",
       "    \n"
      ],
      "text/plain": [
       "<IPython.core.display.HTML object>"
      ]
     },
     "metadata": {},
     "output_type": "display_data"
    },
    {
     "data": {
      "text/html": [],
      "text/plain": [
       "<IPython.core.display.HTML object>"
      ]
     },
     "metadata": {},
     "output_type": "display_data"
    },
    {
     "name": "stdout",
     "output_type": "stream",
     "text": [
      "Pawpularity vs OOF\n",
      "8     68\n",
      "9     38\n",
      "16    19\n",
      "28    41\n",
      "30    47\n",
      "Name: Pawpularity, dtype: int64 [[35.410103]\n",
      " [37.371086]\n",
      " [36.864834]\n",
      " [37.89806 ]\n",
      " [31.559298]]\n",
      "Fold 9 RMSE: 18.045518749048952\n",
      "Average Fold RMSE: 17.44824660860786\n"
     ]
    }
   ],
   "source": [
    "train_df['norm_score'] = train_df['Pawpularity']/100\n",
    "\n",
    "import gc\n",
    "\n",
    "from sklearn.metrics import mean_squared_error\n",
    "folds = [0,1,2,3,4,5,6,7,8,9]\n",
    "if NEED_TRAIN:\n",
    "    rmse_list = []\n",
    "    #train_df['oof'] = -1\n",
    "\n",
    "    for i in folds:\n",
    "\n",
    "        print(f'Fold {i} results')\n",
    "\n",
    "        # ----------------\n",
    "        # Change Path here\n",
    "        # ----------------\n",
    "        learn  = load_learner(fname=Path(f'../input/fastai-384-pred/swin_large_patch4_window12_384/model_fold_{i}.pkl'), cpu=False)\n",
    "        \n",
    "        val_idx = train_df[train_df['kfold'] == i].index\n",
    "        val_df = train_df.loc[val_idx]\n",
    "        \n",
    "        test_dl = learn.dls.test_dl(val_df)\n",
    "        \n",
    "        val_pred, _ =learn.tta(dl=test_dl,n=5, beta=0.2)\n",
    "        val_pred = val_pred.numpy()\n",
    "        val_pred = val_pred * 100\n",
    "        \n",
    "        train_df.loc[val_idx, 'oof'] = val_pred\n",
    "        print('Pawpularity vs OOF')\n",
    "        print(val_df['Pawpularity'][:5], val_pred[:5])\n",
    "        \n",
    "        real_rmse = mean_squared_error(train_df[train_df['kfold'] == i]['Pawpularity'], \n",
    "                    train_df[train_df['kfold'] == i]['oof'], squared=False)\n",
    "        \n",
    "        fold_rmse = mean_squared_error(train_df[train_df['kfold'] == i]['oof'], train_df[train_df['kfold'] == i]['Pawpularity'], squared=False)\n",
    "        print(f'Fold {i} RMSE: {fold_rmse}')\n",
    "        rmse_list.append(fold_rmse)\n",
    "\n",
    "        del learn\n",
    "\n",
    "        torch.cuda.empty_cache()\n",
    "\n",
    "        gc.collect()\n",
    "\n",
    "print(f'Average Fold RMSE: {sum(rmse_list) / len(rmse_list)}')"
   ]
  },
  {
   "cell_type": "code",
   "execution_count": 10,
   "id": "9feb594a",
   "metadata": {
    "execution": {
     "iopub.execute_input": "2022-01-02T07:59:20.662630Z",
     "iopub.status.busy": "2022-01-02T07:59:20.661918Z",
     "iopub.status.idle": "2022-01-02T07:59:20.945260Z",
     "shell.execute_reply": "2022-01-02T07:59:20.945700Z"
    },
    "papermill": {
     "duration": 0.316439,
     "end_time": "2022-01-02T07:59:20.945849",
     "exception": false,
     "start_time": "2022-01-02T07:59:20.629410",
     "status": "completed"
    },
    "tags": []
   },
   "outputs": [
    {
     "data": {
      "text/plain": [
       "<AxesSubplot:xlabel='oof', ylabel='Pawpularity'>"
      ]
     },
     "execution_count": 10,
     "metadata": {},
     "output_type": "execute_result"
    },
    {
     "data": {
      "image/png": "[encoded data removed]",
      "text/plain": [
       "<Figure size 432x288 with 1 Axes>"
      ]
     },
     "metadata": {
      "needs_background": "light"
     },
     "output_type": "display_data"
    }
   ],
   "source": [
    "train_df[['oof','Pawpularity']].plot.scatter('oof','Pawpularity')"
   ]
  },
  {
   "cell_type": "code",
   "execution_count": 11,
   "id": "0424adb3",
   "metadata": {
    "execution": {
     "iopub.execute_input": "2022-01-02T07:59:21.022945Z",
     "iopub.status.busy": "2022-01-02T07:59:21.022321Z",
     "iopub.status.idle": "2022-01-02T07:59:21.357136Z",
     "shell.execute_reply": "2022-01-02T07:59:21.357590Z"
    },
    "papermill": {
     "duration": 0.387213,
     "end_time": "2022-01-02T07:59:21.357767",
     "exception": false,
     "start_time": "2022-01-02T07:59:20.970554",
     "status": "completed"
    },
    "tags": []
   },
   "outputs": [
    {
     "data": {
      "text/plain": [
       "array([[<AxesSubplot:title={'center':'oof'}>,\n",
       "        <AxesSubplot:title={'center':'Pawpularity'}>]], dtype=object)"
      ]
     },
     "execution_count": 11,
     "metadata": {},
     "output_type": "execute_result"
    },
    {
     "data": {
      "image/png": "[encoded data removed]",
      "text/plain": [
       "<Figure size 432x288 with 2 Axes>"
      ]
     },
     "metadata": {
      "needs_background": "light"
     },
     "output_type": "display_data"
    }
   ],
   "source": [
    "train_df[['oof','Pawpularity']].hist()"
   ]
  },
  {
   "cell_type": "code",
   "execution_count": 12,
   "id": "5fb6de99",
   "metadata": {
    "execution": {
     "iopub.execute_input": "2022-01-02T07:59:21.418450Z",
     "iopub.status.busy": "2022-01-02T07:59:21.417826Z",
     "iopub.status.idle": "2022-01-02T07:59:21.518781Z",
     "shell.execute_reply": "2022-01-02T07:59:21.518262Z"
    },
    "papermill": {
     "duration": 0.132993,
     "end_time": "2022-01-02T07:59:21.518903",
     "exception": false,
     "start_time": "2022-01-02T07:59:21.385910",
     "status": "completed"
    },
    "tags": []
   },
   "outputs": [],
   "source": [
    "train_df.to_csv('train_with_oof.csv')"
   ]
  }
 ],
 "metadata": {
  "kernelspec": {
   "display_name": "Python 3",
   "language": "python",
   "name": "python3"
  },
  "language_info": {
   "codemirror_mode": {
    "name": "ipython",
    "version": 3
   },
   "file_extension": ".py",
   "mimetype": "text/x-python",
   "name": "python",
   "nbconvert_exporter": "python",
   "pygments_lexer": "ipython3",
   "version": "3.7.10"
  },
  "papermill": {
   "default_parameters": {},
   "duration": 3043.612474,
   "end_time": "2022-01-02T07:59:24.739223",
   "environment_variables": {},
   "exception": null,
   "input_path": "__notebook__.ipynb",
   "output_path": "__notebook__.ipynb",
   "parameters": {},
   "start_time": "2022-01-02T07:08:41.126749",
   "version": "2.3.3"
  }
 },
 "nbformat": 4,
 "nbformat_minor": 5
}